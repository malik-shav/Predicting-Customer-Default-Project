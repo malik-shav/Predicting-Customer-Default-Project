{
 "cells": [
  {
   "cell_type": "markdown",
   "id": "d9cb377a-419a-40b5-b5ec-0841517a79c1",
   "metadata": {},
   "source": [
    "***Capstone 2: Supervised Learning\n",
    "\n",
    "Summary: \n",
    "\n",
    "The objective of this task is to analyze the \"UCI Credit Card\" dataset to predict if the consumer will default on their next month payment. The variables analyzed consists of individuals balance amount in dollars, sex, education level, marriage status, age, and their payment status. \n",
    "\n",
    "Reserach Question: Which variables are most likely to result in individuals/partners defaulting on their payments?\n",
    "\n",
    "Methods: Begin by implementing Exploratory Data Analysis, which consists of three phases: data cleaning, data exploration, and feature engineering. During data cleaning, raw data will be prepared for further analysis by handling missing values, outliers, etc. During data exploration, relationships are discovered between features and the target using statistical analysis and visualization techniques. During feature engineering, most useful features are selected to train the model. This example is a classificaiton problem, so, logistic regression, random forest, and KNN algorithms are used."
   ]
  },
  {
   "cell_type": "code",
   "execution_count": 132,
   "id": "5f63228e-a20d-42a7-ab98-6df53b32faa9",
   "metadata": {},
   "outputs": [],
   "source": [
    "#Begin by importing the main libraries\n",
    "\n",
    "import pandas as pd\n",
    "import numpy as np\n",
    "import seaborn as sns\n",
    "import scipy.stats as stats\n",
    "from scipy.stats import jarque_bera\n",
    "from scipy.stats import normaltest\n",
    "import matplotlib.pyplot as plt\n",
    "\n",
    "from sklearn.metrics import confusion_matrix, accuracy_score\n",
    "from sklearn.model_selection import train_test_split, cross_val_score\n",
    "from sklearn.linear_model import LogisticRegression\n",
    "from sklearn import ensemble\n",
    "from sklearn.neighbors import KNeighborsClassifier\n",
    "from sklearn.metrics import accuracy_score, precision_score, recall_score, f1_score, fbeta_score, classification_report\n",
    "\n",
    "import time\n",
    "import warnings\n",
    "warnings.filterwarnings('ignore')"
   ]
  },
  {
   "cell_type": "code",
   "execution_count": 133,
   "id": "59abc8da-44ab-4893-ad8d-043bfb960ed8",
   "metadata": {},
   "outputs": [],
   "source": [
    "#Begin by loading the \"UCI Credit Card\" data.\n",
    "data=pd.read_csv(\"UCI_Credit_Card.csv\")"
   ]
  },
  {
   "cell_type": "markdown",
   "id": "5cbc52d6-6e62-4915-bed3-75337a6e8a1c",
   "metadata": {},
   "source": [
    "### Phase 1: Data Cleaning"
   ]
  },
  {
   "cell_type": "code",
   "execution_count": 134,
   "id": "a4f3e09b-8921-4bad-a230-e3eb420b6eab",
   "metadata": {},
   "outputs": [
    {
     "name": "stdout",
     "output_type": "stream",
     "text": [
      "<class 'pandas.core.frame.DataFrame'>\n",
      "RangeIndex: 30000 entries, 0 to 29999\n",
      "Data columns (total 25 columns):\n",
      " #   Column                      Non-Null Count  Dtype  \n",
      "---  ------                      --------------  -----  \n",
      " 0   ID                          30000 non-null  int64  \n",
      " 1   LIMIT_BAL                   30000 non-null  float64\n",
      " 2   SEX                         30000 non-null  int64  \n",
      " 3   EDUCATION                   30000 non-null  int64  \n",
      " 4   MARRIAGE                    30000 non-null  int64  \n",
      " 5   AGE                         30000 non-null  int64  \n",
      " 6   PAY_0                       30000 non-null  int64  \n",
      " 7   PAY_2                       30000 non-null  int64  \n",
      " 8   PAY_3                       30000 non-null  int64  \n",
      " 9   PAY_4                       30000 non-null  int64  \n",
      " 10  PAY_5                       30000 non-null  int64  \n",
      " 11  PAY_6                       30000 non-null  int64  \n",
      " 12  BILL_AMT1                   30000 non-null  float64\n",
      " 13  BILL_AMT2                   30000 non-null  float64\n",
      " 14  BILL_AMT3                   30000 non-null  float64\n",
      " 15  BILL_AMT4                   30000 non-null  float64\n",
      " 16  BILL_AMT5                   30000 non-null  float64\n",
      " 17  BILL_AMT6                   30000 non-null  float64\n",
      " 18  PAY_AMT1                    30000 non-null  float64\n",
      " 19  PAY_AMT2                    30000 non-null  float64\n",
      " 20  PAY_AMT3                    30000 non-null  float64\n",
      " 21  PAY_AMT4                    30000 non-null  float64\n",
      " 22  PAY_AMT5                    30000 non-null  float64\n",
      " 23  PAY_AMT6                    30000 non-null  float64\n",
      " 24  default.payment.next.month  30000 non-null  int64  \n",
      "dtypes: float64(13), int64(12)\n",
      "memory usage: 5.7 MB\n"
     ]
    },
    {
     "data": {
      "text/html": [
       "<div>\n",
       "<style scoped>\n",
       "    .dataframe tbody tr th:only-of-type {\n",
       "        vertical-align: middle;\n",
       "    }\n",
       "\n",
       "    .dataframe tbody tr th {\n",
       "        vertical-align: top;\n",
       "    }\n",
       "\n",
       "    .dataframe thead th {\n",
       "        text-align: right;\n",
       "    }\n",
       "</style>\n",
       "<table border=\"1\" class=\"dataframe\">\n",
       "  <thead>\n",
       "    <tr style=\"text-align: right;\">\n",
       "      <th></th>\n",
       "      <th>ID</th>\n",
       "      <th>LIMIT_BAL</th>\n",
       "      <th>SEX</th>\n",
       "      <th>EDUCATION</th>\n",
       "      <th>MARRIAGE</th>\n",
       "      <th>AGE</th>\n",
       "      <th>PAY_0</th>\n",
       "      <th>PAY_2</th>\n",
       "      <th>PAY_3</th>\n",
       "      <th>PAY_4</th>\n",
       "      <th>...</th>\n",
       "      <th>BILL_AMT4</th>\n",
       "      <th>BILL_AMT5</th>\n",
       "      <th>BILL_AMT6</th>\n",
       "      <th>PAY_AMT1</th>\n",
       "      <th>PAY_AMT2</th>\n",
       "      <th>PAY_AMT3</th>\n",
       "      <th>PAY_AMT4</th>\n",
       "      <th>PAY_AMT5</th>\n",
       "      <th>PAY_AMT6</th>\n",
       "      <th>default.payment.next.month</th>\n",
       "    </tr>\n",
       "  </thead>\n",
       "  <tbody>\n",
       "    <tr>\n",
       "      <th>0</th>\n",
       "      <td>1</td>\n",
       "      <td>20000.0</td>\n",
       "      <td>2</td>\n",
       "      <td>2</td>\n",
       "      <td>1</td>\n",
       "      <td>24</td>\n",
       "      <td>2</td>\n",
       "      <td>2</td>\n",
       "      <td>-1</td>\n",
       "      <td>-1</td>\n",
       "      <td>...</td>\n",
       "      <td>0.0</td>\n",
       "      <td>0.0</td>\n",
       "      <td>0.0</td>\n",
       "      <td>0.0</td>\n",
       "      <td>689.0</td>\n",
       "      <td>0.0</td>\n",
       "      <td>0.0</td>\n",
       "      <td>0.0</td>\n",
       "      <td>0.0</td>\n",
       "      <td>1</td>\n",
       "    </tr>\n",
       "    <tr>\n",
       "      <th>1</th>\n",
       "      <td>2</td>\n",
       "      <td>120000.0</td>\n",
       "      <td>2</td>\n",
       "      <td>2</td>\n",
       "      <td>2</td>\n",
       "      <td>26</td>\n",
       "      <td>-1</td>\n",
       "      <td>2</td>\n",
       "      <td>0</td>\n",
       "      <td>0</td>\n",
       "      <td>...</td>\n",
       "      <td>3272.0</td>\n",
       "      <td>3455.0</td>\n",
       "      <td>3261.0</td>\n",
       "      <td>0.0</td>\n",
       "      <td>1000.0</td>\n",
       "      <td>1000.0</td>\n",
       "      <td>1000.0</td>\n",
       "      <td>0.0</td>\n",
       "      <td>2000.0</td>\n",
       "      <td>1</td>\n",
       "    </tr>\n",
       "    <tr>\n",
       "      <th>2</th>\n",
       "      <td>3</td>\n",
       "      <td>90000.0</td>\n",
       "      <td>2</td>\n",
       "      <td>2</td>\n",
       "      <td>2</td>\n",
       "      <td>34</td>\n",
       "      <td>0</td>\n",
       "      <td>0</td>\n",
       "      <td>0</td>\n",
       "      <td>0</td>\n",
       "      <td>...</td>\n",
       "      <td>14331.0</td>\n",
       "      <td>14948.0</td>\n",
       "      <td>15549.0</td>\n",
       "      <td>1518.0</td>\n",
       "      <td>1500.0</td>\n",
       "      <td>1000.0</td>\n",
       "      <td>1000.0</td>\n",
       "      <td>1000.0</td>\n",
       "      <td>5000.0</td>\n",
       "      <td>0</td>\n",
       "    </tr>\n",
       "    <tr>\n",
       "      <th>3</th>\n",
       "      <td>4</td>\n",
       "      <td>50000.0</td>\n",
       "      <td>2</td>\n",
       "      <td>2</td>\n",
       "      <td>1</td>\n",
       "      <td>37</td>\n",
       "      <td>0</td>\n",
       "      <td>0</td>\n",
       "      <td>0</td>\n",
       "      <td>0</td>\n",
       "      <td>...</td>\n",
       "      <td>28314.0</td>\n",
       "      <td>28959.0</td>\n",
       "      <td>29547.0</td>\n",
       "      <td>2000.0</td>\n",
       "      <td>2019.0</td>\n",
       "      <td>1200.0</td>\n",
       "      <td>1100.0</td>\n",
       "      <td>1069.0</td>\n",
       "      <td>1000.0</td>\n",
       "      <td>0</td>\n",
       "    </tr>\n",
       "    <tr>\n",
       "      <th>4</th>\n",
       "      <td>5</td>\n",
       "      <td>50000.0</td>\n",
       "      <td>1</td>\n",
       "      <td>2</td>\n",
       "      <td>1</td>\n",
       "      <td>57</td>\n",
       "      <td>-1</td>\n",
       "      <td>0</td>\n",
       "      <td>-1</td>\n",
       "      <td>0</td>\n",
       "      <td>...</td>\n",
       "      <td>20940.0</td>\n",
       "      <td>19146.0</td>\n",
       "      <td>19131.0</td>\n",
       "      <td>2000.0</td>\n",
       "      <td>36681.0</td>\n",
       "      <td>10000.0</td>\n",
       "      <td>9000.0</td>\n",
       "      <td>689.0</td>\n",
       "      <td>679.0</td>\n",
       "      <td>0</td>\n",
       "    </tr>\n",
       "  </tbody>\n",
       "</table>\n",
       "<p>5 rows × 25 columns</p>\n",
       "</div>"
      ],
      "text/plain": [
       "   ID  LIMIT_BAL  SEX  EDUCATION  MARRIAGE  AGE  PAY_0  PAY_2  PAY_3  PAY_4  \\\n",
       "0   1    20000.0    2          2         1   24      2      2     -1     -1   \n",
       "1   2   120000.0    2          2         2   26     -1      2      0      0   \n",
       "2   3    90000.0    2          2         2   34      0      0      0      0   \n",
       "3   4    50000.0    2          2         1   37      0      0      0      0   \n",
       "4   5    50000.0    1          2         1   57     -1      0     -1      0   \n",
       "\n",
       "   ...  BILL_AMT4  BILL_AMT5  BILL_AMT6  PAY_AMT1  PAY_AMT2  PAY_AMT3  \\\n",
       "0  ...        0.0        0.0        0.0       0.0     689.0       0.0   \n",
       "1  ...     3272.0     3455.0     3261.0       0.0    1000.0    1000.0   \n",
       "2  ...    14331.0    14948.0    15549.0    1518.0    1500.0    1000.0   \n",
       "3  ...    28314.0    28959.0    29547.0    2000.0    2019.0    1200.0   \n",
       "4  ...    20940.0    19146.0    19131.0    2000.0   36681.0   10000.0   \n",
       "\n",
       "   PAY_AMT4  PAY_AMT5  PAY_AMT6  default.payment.next.month  \n",
       "0       0.0       0.0       0.0                           1  \n",
       "1    1000.0       0.0    2000.0                           1  \n",
       "2    1000.0    1000.0    5000.0                           0  \n",
       "3    1100.0    1069.0    1000.0                           0  \n",
       "4    9000.0     689.0     679.0                           0  \n",
       "\n",
       "[5 rows x 25 columns]"
      ]
     },
     "execution_count": 134,
     "metadata": {},
     "output_type": "execute_result"
    }
   ],
   "source": [
    "#Getting information about the data\n",
    "data.info()\n",
    "data.head()"
   ]
  },
  {
   "cell_type": "code",
   "execution_count": 135,
   "id": "46d0109a-7a32-4f5c-8db0-9fb55bb6e4d5",
   "metadata": {},
   "outputs": [
    {
     "data": {
      "text/plain": [
       "(30000, 25)"
      ]
     },
     "execution_count": 135,
     "metadata": {},
     "output_type": "execute_result"
    }
   ],
   "source": [
    "data.shape #There are 30000 rows and 25 columns in the data"
   ]
  },
  {
   "cell_type": "code",
   "execution_count": 136,
   "id": "aa52eb14-e69a-4913-8644-15ef4c71a46b",
   "metadata": {},
   "outputs": [],
   "source": [
    "#Rename the default column for simplicity and drop ID column(unnececary)\n",
    "data.rename(columns={'default.payment.next.month':\"default\"}, inplace=True)\n",
    "data.drop(\"ID\", axis=1, inplace=True)"
   ]
  },
  {
   "cell_type": "code",
   "execution_count": 137,
   "id": "d47155c4-2810-41ea-9a0d-1c92f30281f2",
   "metadata": {
    "tags": []
   },
   "outputs": [
    {
     "data": {
      "text/plain": [
       "LIMIT_BAL    0\n",
       "SEX          0\n",
       "EDUCATION    0\n",
       "MARRIAGE     0\n",
       "AGE          0\n",
       "PAY_0        0\n",
       "PAY_2        0\n",
       "PAY_3        0\n",
       "PAY_4        0\n",
       "PAY_5        0\n",
       "PAY_6        0\n",
       "BILL_AMT1    0\n",
       "BILL_AMT2    0\n",
       "BILL_AMT3    0\n",
       "BILL_AMT4    0\n",
       "BILL_AMT5    0\n",
       "BILL_AMT6    0\n",
       "PAY_AMT1     0\n",
       "PAY_AMT2     0\n",
       "PAY_AMT3     0\n",
       "PAY_AMT4     0\n",
       "PAY_AMT5     0\n",
       "PAY_AMT6     0\n",
       "default      0\n",
       "dtype: int64"
      ]
     },
     "execution_count": 137,
     "metadata": {},
     "output_type": "execute_result"
    }
   ],
   "source": [
    "#By inspecting the output above, I can see that there are no missing values. I will confirm this below as well. \n",
    "data.isnull().sum()"
   ]
  },
  {
   "cell_type": "markdown",
   "id": "6dab8819-d67f-49aa-8659-f677c653ddc4",
   "metadata": {},
   "source": [
    "I can see that there are no missing values. Furthermore, all of the variables are numerical data types, even though, some are a categorical, such as, sex, education, and marriage. "
   ]
  },
  {
   "cell_type": "code",
   "execution_count": 138,
   "id": "6978f04f-12d4-4d9a-a95a-4c4bc9469e3e",
   "metadata": {
    "tags": []
   },
   "outputs": [
    {
     "data": {
      "text/plain": [
       "LIMIT_BAL       81\n",
       "SEX              2\n",
       "EDUCATION        7\n",
       "MARRIAGE         4\n",
       "AGE             56\n",
       "PAY_0           11\n",
       "PAY_2           11\n",
       "PAY_3           11\n",
       "PAY_4           11\n",
       "PAY_5           10\n",
       "PAY_6           10\n",
       "BILL_AMT1    22723\n",
       "BILL_AMT2    22346\n",
       "BILL_AMT3    22026\n",
       "BILL_AMT4    21548\n",
       "BILL_AMT5    21010\n",
       "BILL_AMT6    20604\n",
       "PAY_AMT1      7943\n",
       "PAY_AMT2      7899\n",
       "PAY_AMT3      7518\n",
       "PAY_AMT4      6937\n",
       "PAY_AMT5      6897\n",
       "PAY_AMT6      6939\n",
       "default          2\n",
       "dtype: int64"
      ]
     },
     "execution_count": 138,
     "metadata": {},
     "output_type": "execute_result"
    }
   ],
   "source": [
    "#Checking number of unique values in each category\n",
    "data.nunique()"
   ]
  },
  {
   "cell_type": "markdown",
   "id": "24ef9881-0f07-40a4-93b8-62a4207631ee",
   "metadata": {},
   "source": [
    "Variables with smaller number of unique values are likely classified as categorical."
   ]
  },
  {
   "cell_type": "code",
   "execution_count": 139,
   "id": "e7b1e18e-0010-4e54-86b5-66d24d2ec054",
   "metadata": {},
   "outputs": [
    {
     "data": {
      "text/plain": [
       "array([1, 2, 3, 0])"
      ]
     },
     "execution_count": 139,
     "metadata": {},
     "output_type": "execute_result"
    }
   ],
   "source": [
    "#Checking unique values for marriage\n",
    "data.MARRIAGE.unique()"
   ]
  },
  {
   "cell_type": "code",
   "execution_count": 140,
   "id": "642fb779-5ad3-4d35-9267-2ec4d4b2cc16",
   "metadata": {},
   "outputs": [
    {
     "data": {
      "text/plain": [
       "array([2, 1, 3, 5, 4, 6, 0])"
      ]
     },
     "execution_count": 140,
     "metadata": {},
     "output_type": "execute_result"
    }
   ],
   "source": [
    "#Checking education unique values\n",
    "data.EDUCATION.unique()"
   ]
  },
  {
   "cell_type": "markdown",
   "id": "1f8557e9-3af2-4f45-964e-e939598a58ef",
   "metadata": {
    "tags": []
   },
   "source": [
    "For Marriage variable: 3 and 0 are the same and for Education variable: 4, 5, and 6 are the same , so, combine them into one."
   ]
  },
  {
   "cell_type": "code",
   "execution_count": 141,
   "id": "fca5fdd4-0546-4a50-8b25-9824357abbce",
   "metadata": {},
   "outputs": [],
   "source": [
    "#For personal preference, I will represent values in catogorical variables as string types. This is not necessary. \n",
    "data.SEX.replace({1:'Male', 2:'Female'},inplace=True)\n",
    "data.EDUCATION.replace({1:\"Graduate\",2:\"University\",3:\"Highschool\",4:\"Other\",5:\"Other\",6:\"Other\"},inplace=True)\n",
    "data.MARRIAGE.replace({1:\"Married\",2:\"Single\",3:\"Other\",0:\"Other\"},inplace=True)\n",
    "data.default.replace({1:\"Yes\",0:\"No\"}, inplace=True)"
   ]
  },
  {
   "cell_type": "code",
   "execution_count": 142,
   "id": "2b41e1cd-3e82-4d07-8f56-de52417c07eb",
   "metadata": {},
   "outputs": [
    {
     "data": {
      "text/plain": [
       "array([ 2, -1,  0, -2,  1,  3,  4,  8,  7,  5,  6])"
      ]
     },
     "execution_count": 142,
     "metadata": {},
     "output_type": "execute_result"
    }
   ],
   "source": [
    "#Checking unique values for PAY\n",
    "data.PAY_0.unique()"
   ]
  },
  {
   "cell_type": "code",
   "execution_count": 143,
   "id": "dbec86b3-c4fe-4420-bc75-b5cea3d7bdfb",
   "metadata": {},
   "outputs": [],
   "source": [
    "#Combine -2 and -1 and represent them as 0.\n",
    "data.PAY_0.replace({-2:0,-1:0}, inplace=True)\n",
    "data.PAY_2.replace({-2:0,-1:0}, inplace=True)\n",
    "data.PAY_3.replace({-2:0,-1:0}, inplace=True)\n",
    "data.PAY_4.replace({-2:0,-1:0}, inplace=True)\n",
    "data.PAY_5.replace({-2:0,-1:0}, inplace=True)\n",
    "data.PAY_6.replace({-2:0,-1:0}, inplace=True)"
   ]
  },
  {
   "cell_type": "code",
   "execution_count": 144,
   "id": "21d2dce6-1a59-4452-9cb7-37a4742fabaf",
   "metadata": {
    "tags": []
   },
   "outputs": [
    {
     "data": {
      "text/html": [
       "<div>\n",
       "<style scoped>\n",
       "    .dataframe tbody tr th:only-of-type {\n",
       "        vertical-align: middle;\n",
       "    }\n",
       "\n",
       "    .dataframe tbody tr th {\n",
       "        vertical-align: top;\n",
       "    }\n",
       "\n",
       "    .dataframe thead th {\n",
       "        text-align: right;\n",
       "    }\n",
       "</style>\n",
       "<table border=\"1\" class=\"dataframe\">\n",
       "  <thead>\n",
       "    <tr style=\"text-align: right;\">\n",
       "      <th></th>\n",
       "      <th>LIMIT_BAL</th>\n",
       "      <th>SEX</th>\n",
       "      <th>EDUCATION</th>\n",
       "      <th>MARRIAGE</th>\n",
       "      <th>AGE</th>\n",
       "      <th>PAY_0</th>\n",
       "      <th>PAY_2</th>\n",
       "      <th>PAY_3</th>\n",
       "      <th>PAY_4</th>\n",
       "      <th>PAY_5</th>\n",
       "      <th>...</th>\n",
       "      <th>BILL_AMT4</th>\n",
       "      <th>BILL_AMT5</th>\n",
       "      <th>BILL_AMT6</th>\n",
       "      <th>PAY_AMT1</th>\n",
       "      <th>PAY_AMT2</th>\n",
       "      <th>PAY_AMT3</th>\n",
       "      <th>PAY_AMT4</th>\n",
       "      <th>PAY_AMT5</th>\n",
       "      <th>PAY_AMT6</th>\n",
       "      <th>default</th>\n",
       "    </tr>\n",
       "  </thead>\n",
       "  <tbody>\n",
       "    <tr>\n",
       "      <th>0</th>\n",
       "      <td>20000.0</td>\n",
       "      <td>Female</td>\n",
       "      <td>University</td>\n",
       "      <td>Married</td>\n",
       "      <td>24</td>\n",
       "      <td>2</td>\n",
       "      <td>2</td>\n",
       "      <td>0</td>\n",
       "      <td>0</td>\n",
       "      <td>0</td>\n",
       "      <td>...</td>\n",
       "      <td>0.0</td>\n",
       "      <td>0.0</td>\n",
       "      <td>0.0</td>\n",
       "      <td>0.0</td>\n",
       "      <td>689.0</td>\n",
       "      <td>0.0</td>\n",
       "      <td>0.0</td>\n",
       "      <td>0.0</td>\n",
       "      <td>0.0</td>\n",
       "      <td>Yes</td>\n",
       "    </tr>\n",
       "    <tr>\n",
       "      <th>1</th>\n",
       "      <td>120000.0</td>\n",
       "      <td>Female</td>\n",
       "      <td>University</td>\n",
       "      <td>Single</td>\n",
       "      <td>26</td>\n",
       "      <td>0</td>\n",
       "      <td>2</td>\n",
       "      <td>0</td>\n",
       "      <td>0</td>\n",
       "      <td>0</td>\n",
       "      <td>...</td>\n",
       "      <td>3272.0</td>\n",
       "      <td>3455.0</td>\n",
       "      <td>3261.0</td>\n",
       "      <td>0.0</td>\n",
       "      <td>1000.0</td>\n",
       "      <td>1000.0</td>\n",
       "      <td>1000.0</td>\n",
       "      <td>0.0</td>\n",
       "      <td>2000.0</td>\n",
       "      <td>Yes</td>\n",
       "    </tr>\n",
       "    <tr>\n",
       "      <th>2</th>\n",
       "      <td>90000.0</td>\n",
       "      <td>Female</td>\n",
       "      <td>University</td>\n",
       "      <td>Single</td>\n",
       "      <td>34</td>\n",
       "      <td>0</td>\n",
       "      <td>0</td>\n",
       "      <td>0</td>\n",
       "      <td>0</td>\n",
       "      <td>0</td>\n",
       "      <td>...</td>\n",
       "      <td>14331.0</td>\n",
       "      <td>14948.0</td>\n",
       "      <td>15549.0</td>\n",
       "      <td>1518.0</td>\n",
       "      <td>1500.0</td>\n",
       "      <td>1000.0</td>\n",
       "      <td>1000.0</td>\n",
       "      <td>1000.0</td>\n",
       "      <td>5000.0</td>\n",
       "      <td>No</td>\n",
       "    </tr>\n",
       "    <tr>\n",
       "      <th>3</th>\n",
       "      <td>50000.0</td>\n",
       "      <td>Female</td>\n",
       "      <td>University</td>\n",
       "      <td>Married</td>\n",
       "      <td>37</td>\n",
       "      <td>0</td>\n",
       "      <td>0</td>\n",
       "      <td>0</td>\n",
       "      <td>0</td>\n",
       "      <td>0</td>\n",
       "      <td>...</td>\n",
       "      <td>28314.0</td>\n",
       "      <td>28959.0</td>\n",
       "      <td>29547.0</td>\n",
       "      <td>2000.0</td>\n",
       "      <td>2019.0</td>\n",
       "      <td>1200.0</td>\n",
       "      <td>1100.0</td>\n",
       "      <td>1069.0</td>\n",
       "      <td>1000.0</td>\n",
       "      <td>No</td>\n",
       "    </tr>\n",
       "    <tr>\n",
       "      <th>4</th>\n",
       "      <td>50000.0</td>\n",
       "      <td>Male</td>\n",
       "      <td>University</td>\n",
       "      <td>Married</td>\n",
       "      <td>57</td>\n",
       "      <td>0</td>\n",
       "      <td>0</td>\n",
       "      <td>0</td>\n",
       "      <td>0</td>\n",
       "      <td>0</td>\n",
       "      <td>...</td>\n",
       "      <td>20940.0</td>\n",
       "      <td>19146.0</td>\n",
       "      <td>19131.0</td>\n",
       "      <td>2000.0</td>\n",
       "      <td>36681.0</td>\n",
       "      <td>10000.0</td>\n",
       "      <td>9000.0</td>\n",
       "      <td>689.0</td>\n",
       "      <td>679.0</td>\n",
       "      <td>No</td>\n",
       "    </tr>\n",
       "  </tbody>\n",
       "</table>\n",
       "<p>5 rows × 24 columns</p>\n",
       "</div>"
      ],
      "text/plain": [
       "   LIMIT_BAL     SEX   EDUCATION MARRIAGE  AGE  PAY_0  PAY_2  PAY_3  PAY_4  \\\n",
       "0    20000.0  Female  University  Married   24      2      2      0      0   \n",
       "1   120000.0  Female  University   Single   26      0      2      0      0   \n",
       "2    90000.0  Female  University   Single   34      0      0      0      0   \n",
       "3    50000.0  Female  University  Married   37      0      0      0      0   \n",
       "4    50000.0    Male  University  Married   57      0      0      0      0   \n",
       "\n",
       "   PAY_5  ...  BILL_AMT4  BILL_AMT5  BILL_AMT6  PAY_AMT1  PAY_AMT2  PAY_AMT3  \\\n",
       "0      0  ...        0.0        0.0        0.0       0.0     689.0       0.0   \n",
       "1      0  ...     3272.0     3455.0     3261.0       0.0    1000.0    1000.0   \n",
       "2      0  ...    14331.0    14948.0    15549.0    1518.0    1500.0    1000.0   \n",
       "3      0  ...    28314.0    28959.0    29547.0    2000.0    2019.0    1200.0   \n",
       "4      0  ...    20940.0    19146.0    19131.0    2000.0   36681.0   10000.0   \n",
       "\n",
       "   PAY_AMT4  PAY_AMT5  PAY_AMT6  default  \n",
       "0       0.0       0.0       0.0      Yes  \n",
       "1    1000.0       0.0    2000.0      Yes  \n",
       "2    1000.0    1000.0    5000.0       No  \n",
       "3    1100.0    1069.0    1000.0       No  \n",
       "4    9000.0     689.0     679.0       No  \n",
       "\n",
       "[5 rows x 24 columns]"
      ]
     },
     "execution_count": 144,
     "metadata": {},
     "output_type": "execute_result"
    }
   ],
   "source": [
    "#Double checking if data is modified correctly.\n",
    "data.head()"
   ]
  },
  {
   "cell_type": "markdown",
   "id": "fe6b4754-c66b-4d4e-8af6-b90aa56c75be",
   "metadata": {},
   "source": [
    "### Phase 2: Data Exploration"
   ]
  },
  {
   "cell_type": "code",
   "execution_count": 145,
   "id": "cd3aa5cf-76e6-4886-8ec1-c66d4a8d96c4",
   "metadata": {},
   "outputs": [
    {
     "data": {
      "text/html": [
       "<div>\n",
       "<style scoped>\n",
       "    .dataframe tbody tr th:only-of-type {\n",
       "        vertical-align: middle;\n",
       "    }\n",
       "\n",
       "    .dataframe tbody tr th {\n",
       "        vertical-align: top;\n",
       "    }\n",
       "\n",
       "    .dataframe thead th {\n",
       "        text-align: right;\n",
       "    }\n",
       "</style>\n",
       "<table border=\"1\" class=\"dataframe\">\n",
       "  <thead>\n",
       "    <tr style=\"text-align: right;\">\n",
       "      <th></th>\n",
       "      <th>LIMIT_BAL</th>\n",
       "      <th>AGE</th>\n",
       "      <th>PAY_0</th>\n",
       "      <th>PAY_2</th>\n",
       "      <th>PAY_3</th>\n",
       "      <th>PAY_4</th>\n",
       "      <th>PAY_5</th>\n",
       "      <th>PAY_6</th>\n",
       "      <th>BILL_AMT1</th>\n",
       "      <th>BILL_AMT2</th>\n",
       "      <th>BILL_AMT3</th>\n",
       "      <th>BILL_AMT4</th>\n",
       "      <th>BILL_AMT5</th>\n",
       "      <th>BILL_AMT6</th>\n",
       "      <th>PAY_AMT1</th>\n",
       "      <th>PAY_AMT2</th>\n",
       "      <th>PAY_AMT3</th>\n",
       "      <th>PAY_AMT4</th>\n",
       "      <th>PAY_AMT5</th>\n",
       "      <th>PAY_AMT6</th>\n",
       "    </tr>\n",
       "  </thead>\n",
       "  <tbody>\n",
       "    <tr>\n",
       "      <th>count</th>\n",
       "      <td>30000.000000</td>\n",
       "      <td>30000.000000</td>\n",
       "      <td>30000.000000</td>\n",
       "      <td>30000.000000</td>\n",
       "      <td>30000.000000</td>\n",
       "      <td>30000.000000</td>\n",
       "      <td>30000.00000</td>\n",
       "      <td>30000.000000</td>\n",
       "      <td>30000.000000</td>\n",
       "      <td>30000.000000</td>\n",
       "      <td>3.000000e+04</td>\n",
       "      <td>30000.000000</td>\n",
       "      <td>30000.000000</td>\n",
       "      <td>30000.000000</td>\n",
       "      <td>30000.000000</td>\n",
       "      <td>3.000000e+04</td>\n",
       "      <td>30000.00000</td>\n",
       "      <td>30000.000000</td>\n",
       "      <td>30000.000000</td>\n",
       "      <td>30000.000000</td>\n",
       "    </tr>\n",
       "    <tr>\n",
       "      <th>mean</th>\n",
       "      <td>167484.322667</td>\n",
       "      <td>35.485500</td>\n",
       "      <td>0.356767</td>\n",
       "      <td>0.320033</td>\n",
       "      <td>0.304067</td>\n",
       "      <td>0.258767</td>\n",
       "      <td>0.22150</td>\n",
       "      <td>0.226567</td>\n",
       "      <td>51223.330900</td>\n",
       "      <td>49179.075167</td>\n",
       "      <td>4.701315e+04</td>\n",
       "      <td>43262.948967</td>\n",
       "      <td>40311.400967</td>\n",
       "      <td>38871.760400</td>\n",
       "      <td>5663.580500</td>\n",
       "      <td>5.921163e+03</td>\n",
       "      <td>5225.68150</td>\n",
       "      <td>4826.076867</td>\n",
       "      <td>4799.387633</td>\n",
       "      <td>5215.502567</td>\n",
       "    </tr>\n",
       "    <tr>\n",
       "      <th>std</th>\n",
       "      <td>129747.661567</td>\n",
       "      <td>9.217904</td>\n",
       "      <td>0.760594</td>\n",
       "      <td>0.801727</td>\n",
       "      <td>0.790589</td>\n",
       "      <td>0.761113</td>\n",
       "      <td>0.71772</td>\n",
       "      <td>0.715438</td>\n",
       "      <td>73635.860576</td>\n",
       "      <td>71173.768783</td>\n",
       "      <td>6.934939e+04</td>\n",
       "      <td>64332.856134</td>\n",
       "      <td>60797.155770</td>\n",
       "      <td>59554.107537</td>\n",
       "      <td>16563.280354</td>\n",
       "      <td>2.304087e+04</td>\n",
       "      <td>17606.96147</td>\n",
       "      <td>15666.159744</td>\n",
       "      <td>15278.305679</td>\n",
       "      <td>17777.465775</td>\n",
       "    </tr>\n",
       "    <tr>\n",
       "      <th>min</th>\n",
       "      <td>10000.000000</td>\n",
       "      <td>21.000000</td>\n",
       "      <td>0.000000</td>\n",
       "      <td>0.000000</td>\n",
       "      <td>0.000000</td>\n",
       "      <td>0.000000</td>\n",
       "      <td>0.00000</td>\n",
       "      <td>0.000000</td>\n",
       "      <td>-165580.000000</td>\n",
       "      <td>-69777.000000</td>\n",
       "      <td>-1.572640e+05</td>\n",
       "      <td>-170000.000000</td>\n",
       "      <td>-81334.000000</td>\n",
       "      <td>-339603.000000</td>\n",
       "      <td>0.000000</td>\n",
       "      <td>0.000000e+00</td>\n",
       "      <td>0.00000</td>\n",
       "      <td>0.000000</td>\n",
       "      <td>0.000000</td>\n",
       "      <td>0.000000</td>\n",
       "    </tr>\n",
       "    <tr>\n",
       "      <th>25%</th>\n",
       "      <td>50000.000000</td>\n",
       "      <td>28.000000</td>\n",
       "      <td>0.000000</td>\n",
       "      <td>0.000000</td>\n",
       "      <td>0.000000</td>\n",
       "      <td>0.000000</td>\n",
       "      <td>0.00000</td>\n",
       "      <td>0.000000</td>\n",
       "      <td>3558.750000</td>\n",
       "      <td>2984.750000</td>\n",
       "      <td>2.666250e+03</td>\n",
       "      <td>2326.750000</td>\n",
       "      <td>1763.000000</td>\n",
       "      <td>1256.000000</td>\n",
       "      <td>1000.000000</td>\n",
       "      <td>8.330000e+02</td>\n",
       "      <td>390.00000</td>\n",
       "      <td>296.000000</td>\n",
       "      <td>252.500000</td>\n",
       "      <td>117.750000</td>\n",
       "    </tr>\n",
       "    <tr>\n",
       "      <th>50%</th>\n",
       "      <td>140000.000000</td>\n",
       "      <td>34.000000</td>\n",
       "      <td>0.000000</td>\n",
       "      <td>0.000000</td>\n",
       "      <td>0.000000</td>\n",
       "      <td>0.000000</td>\n",
       "      <td>0.00000</td>\n",
       "      <td>0.000000</td>\n",
       "      <td>22381.500000</td>\n",
       "      <td>21200.000000</td>\n",
       "      <td>2.008850e+04</td>\n",
       "      <td>19052.000000</td>\n",
       "      <td>18104.500000</td>\n",
       "      <td>17071.000000</td>\n",
       "      <td>2100.000000</td>\n",
       "      <td>2.009000e+03</td>\n",
       "      <td>1800.00000</td>\n",
       "      <td>1500.000000</td>\n",
       "      <td>1500.000000</td>\n",
       "      <td>1500.000000</td>\n",
       "    </tr>\n",
       "    <tr>\n",
       "      <th>75%</th>\n",
       "      <td>240000.000000</td>\n",
       "      <td>41.000000</td>\n",
       "      <td>0.000000</td>\n",
       "      <td>0.000000</td>\n",
       "      <td>0.000000</td>\n",
       "      <td>0.000000</td>\n",
       "      <td>0.00000</td>\n",
       "      <td>0.000000</td>\n",
       "      <td>67091.000000</td>\n",
       "      <td>64006.250000</td>\n",
       "      <td>6.016475e+04</td>\n",
       "      <td>54506.000000</td>\n",
       "      <td>50190.500000</td>\n",
       "      <td>49198.250000</td>\n",
       "      <td>5006.000000</td>\n",
       "      <td>5.000000e+03</td>\n",
       "      <td>4505.00000</td>\n",
       "      <td>4013.250000</td>\n",
       "      <td>4031.500000</td>\n",
       "      <td>4000.000000</td>\n",
       "    </tr>\n",
       "    <tr>\n",
       "      <th>max</th>\n",
       "      <td>1000000.000000</td>\n",
       "      <td>79.000000</td>\n",
       "      <td>8.000000</td>\n",
       "      <td>8.000000</td>\n",
       "      <td>8.000000</td>\n",
       "      <td>8.000000</td>\n",
       "      <td>8.00000</td>\n",
       "      <td>8.000000</td>\n",
       "      <td>964511.000000</td>\n",
       "      <td>983931.000000</td>\n",
       "      <td>1.664089e+06</td>\n",
       "      <td>891586.000000</td>\n",
       "      <td>927171.000000</td>\n",
       "      <td>961664.000000</td>\n",
       "      <td>873552.000000</td>\n",
       "      <td>1.684259e+06</td>\n",
       "      <td>896040.00000</td>\n",
       "      <td>621000.000000</td>\n",
       "      <td>426529.000000</td>\n",
       "      <td>528666.000000</td>\n",
       "    </tr>\n",
       "  </tbody>\n",
       "</table>\n",
       "</div>"
      ],
      "text/plain": [
       "            LIMIT_BAL           AGE         PAY_0         PAY_2         PAY_3  \\\n",
       "count    30000.000000  30000.000000  30000.000000  30000.000000  30000.000000   \n",
       "mean    167484.322667     35.485500      0.356767      0.320033      0.304067   \n",
       "std     129747.661567      9.217904      0.760594      0.801727      0.790589   \n",
       "min      10000.000000     21.000000      0.000000      0.000000      0.000000   \n",
       "25%      50000.000000     28.000000      0.000000      0.000000      0.000000   \n",
       "50%     140000.000000     34.000000      0.000000      0.000000      0.000000   \n",
       "75%     240000.000000     41.000000      0.000000      0.000000      0.000000   \n",
       "max    1000000.000000     79.000000      8.000000      8.000000      8.000000   \n",
       "\n",
       "              PAY_4        PAY_5         PAY_6      BILL_AMT1      BILL_AMT2  \\\n",
       "count  30000.000000  30000.00000  30000.000000   30000.000000   30000.000000   \n",
       "mean       0.258767      0.22150      0.226567   51223.330900   49179.075167   \n",
       "std        0.761113      0.71772      0.715438   73635.860576   71173.768783   \n",
       "min        0.000000      0.00000      0.000000 -165580.000000  -69777.000000   \n",
       "25%        0.000000      0.00000      0.000000    3558.750000    2984.750000   \n",
       "50%        0.000000      0.00000      0.000000   22381.500000   21200.000000   \n",
       "75%        0.000000      0.00000      0.000000   67091.000000   64006.250000   \n",
       "max        8.000000      8.00000      8.000000  964511.000000  983931.000000   \n",
       "\n",
       "          BILL_AMT3      BILL_AMT4      BILL_AMT5      BILL_AMT6  \\\n",
       "count  3.000000e+04   30000.000000   30000.000000   30000.000000   \n",
       "mean   4.701315e+04   43262.948967   40311.400967   38871.760400   \n",
       "std    6.934939e+04   64332.856134   60797.155770   59554.107537   \n",
       "min   -1.572640e+05 -170000.000000  -81334.000000 -339603.000000   \n",
       "25%    2.666250e+03    2326.750000    1763.000000    1256.000000   \n",
       "50%    2.008850e+04   19052.000000   18104.500000   17071.000000   \n",
       "75%    6.016475e+04   54506.000000   50190.500000   49198.250000   \n",
       "max    1.664089e+06  891586.000000  927171.000000  961664.000000   \n",
       "\n",
       "            PAY_AMT1      PAY_AMT2      PAY_AMT3       PAY_AMT4  \\\n",
       "count   30000.000000  3.000000e+04   30000.00000   30000.000000   \n",
       "mean     5663.580500  5.921163e+03    5225.68150    4826.076867   \n",
       "std     16563.280354  2.304087e+04   17606.96147   15666.159744   \n",
       "min         0.000000  0.000000e+00       0.00000       0.000000   \n",
       "25%      1000.000000  8.330000e+02     390.00000     296.000000   \n",
       "50%      2100.000000  2.009000e+03    1800.00000    1500.000000   \n",
       "75%      5006.000000  5.000000e+03    4505.00000    4013.250000   \n",
       "max    873552.000000  1.684259e+06  896040.00000  621000.000000   \n",
       "\n",
       "            PAY_AMT5       PAY_AMT6  \n",
       "count   30000.000000   30000.000000  \n",
       "mean     4799.387633    5215.502567  \n",
       "std     15278.305679   17777.465775  \n",
       "min         0.000000       0.000000  \n",
       "25%       252.500000     117.750000  \n",
       "50%      1500.000000    1500.000000  \n",
       "75%      4031.500000    4000.000000  \n",
       "max    426529.000000  528666.000000  "
      ]
     },
     "execution_count": 145,
     "metadata": {},
     "output_type": "execute_result"
    }
   ],
   "source": [
    "#Checking descrtiptive statistics of each feature\n",
    "data.describe()"
   ]
  },
  {
   "cell_type": "code",
   "execution_count": 146,
   "id": "50a68e01-a642-4d6a-90eb-ac4758daa63c",
   "metadata": {},
   "outputs": [
    {
     "data": {
      "image/png": "[encoded data removed]",
      "text/plain": [
       "<Figure size 432x288 with 1 Axes>"
      ]
     },
     "metadata": {
      "needs_background": "light"
     },
     "output_type": "display_data"
    }
   ],
   "source": [
    "#Comparing percentage of defaults to non-defaults\n",
    "data[\"default\"].value_counts().plot.bar()\n",
    "\n",
    "total=len(data['default'])\n",
    "not_def = len(data[data['default']=='No'])/total *100\n",
    "yes_def = len(data[data['default']==\"Yes\"])/total *100\n",
    "\n",
    "plt.text(x=0, y=len(data[data['default']=='No']),s=str(\"%.2f\"%not_def+'%'),horizontalalignment='center')\n",
    "plt.text(x=1, y=len(data[data['default']==\"Yes\"]),s=str(\"%.2f\"%yes_def+'%'), horizontalalignment='center')\n",
    "\n",
    "plt.show()"
   ]
  },
  {
   "cell_type": "markdown",
   "id": "c5d80a4e-aa64-42d7-b031-0f0ecc6413ab",
   "metadata": {},
   "source": [
    "Individuals or partners have 22.12% chance of defaulting. "
   ]
  },
  {
   "cell_type": "code",
   "execution_count": 147,
   "id": "879d1bc2-308f-453a-9e7a-49db9357c97d",
   "metadata": {},
   "outputs": [
    {
     "name": "stdout",
     "output_type": "stream",
     "text": [
      "default     No   Yes\n",
      "SEX                 \n",
      "Female   14349  3763\n",
      "Male      9015  2873 \n",
      "\n",
      "default        No   Yes\n",
      "EDUCATION              \n",
      "0              14     0\n",
      "Graduate     8549  2036\n",
      "Highschool   3680  1237\n",
      "Other         421    33\n",
      "University  10700  3330 \n",
      "\n",
      "default      No   Yes\n",
      "MARRIAGE             \n",
      "Married   10453  3206\n",
      "Other       288    89\n",
      "Single    12623  3341\n"
     ]
    }
   ],
   "source": [
    "#Bivariate analysis of columns Sex, Education, and Marriage with default column\n",
    "\n",
    "#Lets analyze the observation count of all value pairs using crosstab\n",
    "count_SEX=pd.crosstab(data.SEX, data.default)\n",
    "count_EDUCATION=pd.crosstab(data.EDUCATION, data.default)\n",
    "count_MARRIAGE=pd.crosstab(data.MARRIAGE, data.default)\n",
    "print(count_SEX,\"\\n\")\n",
    "print(count_EDUCATION,\"\\n\")\n",
    "print(count_MARRIAGE)"
   ]
  },
  {
   "cell_type": "code",
   "execution_count": 148,
   "id": "d4286f29-0b16-4046-9772-df8d73135a15",
   "metadata": {
    "tags": []
   },
   "outputs": [
    {
     "data": {
      "image/png": "[encoded data removed]",
      "text/plain": [
       "<Figure size 1296x360 with 3 Axes>"
      ]
     },
     "metadata": {
      "needs_background": "light"
     },
     "output_type": "display_data"
    }
   ],
   "source": [
    "#Checking for relationships of categorical variables using visualization\n",
    "plt.figure(figsize=(18,5))\n",
    "plt.subplot(1,3,1)\n",
    "sns.countplot(x='SEX', hue='default', data=data)\n",
    "plt.subplot(1,3,2)\n",
    "sns.countplot(x='EDUCATION', hue='default', data=data)\n",
    "plt.subplot(1,3,3)\n",
    "sns.countplot(x='MARRIAGE', hue='default', data=data)\n",
    "\n",
    "plt.show()"
   ]
  },
  {
   "cell_type": "markdown",
   "id": "830fe385-8f79-43b2-a74b-9ab909a04824",
   "metadata": {},
   "source": [
    "On SEX variable, there are more females and female defaulters.\n",
    "On EDUCATION variable, University degree holders default more, followed by Graduate holders.\n",
    "On MARRIAGE variable, Singles tend to default more but there is not a lot of differences between. "
   ]
  },
  {
   "cell_type": "code",
   "execution_count": 149,
   "id": "b60d4624-6690-48b3-aad6-7ecb94608131",
   "metadata": {},
   "outputs": [
    {
     "name": "stdout",
     "output_type": "stream",
     "text": [
      "Power_divergenceResult(statistic=11277.109866666666, pvalue=0.0)\n",
      "Power_divergenceResult(statistic=42686.897333333334, pvalue=0.0)\n",
      "Power_divergenceResult(statistic=28027.384000000002, pvalue=0.0)\n"
     ]
    }
   ],
   "source": [
    "#Testing for statistical significance of the categorical variables with the default variable.\n",
    "print(stats.chisquare(count_SEX, axis=None))\n",
    "print(stats.chisquare(count_EDUCATION, axis=None))\n",
    "print(stats.chisquare(count_MARRIAGE, axis=None))"
   ]
  },
  {
   "cell_type": "markdown",
   "id": "294698e6-8f5f-446f-b407-cbbf0046d8be",
   "metadata": {},
   "source": [
    "There is a statistical significance between the categorical variables with the default variable. Therefore, I will use these variables as my features when training the model. "
   ]
  },
  {
   "cell_type": "code",
   "execution_count": 150,
   "id": "781d5134-59c4-4b60-a0eb-7e2543b3fc99",
   "metadata": {},
   "outputs": [
    {
     "data": {
      "text/plain": [
       "<AxesSubplot:xlabel='age_bins'>"
      ]
     },
     "execution_count": 150,
     "metadata": {},
     "output_type": "execute_result"
    },
    {
     "data": {
      "image/png": "[encoded data removed]",
      "text/plain": [
       "<Figure size 432x288 with 1 Axes>"
      ]
     },
     "metadata": {
      "needs_background": "light"
     },
     "output_type": "display_data"
    }
   ],
   "source": [
    "#Bivariate Analysis of LIMIT_BAL and AGE variables with the default variable.\n",
    "\n",
    "data['age_bins']=pd.cut(data.AGE, bins=[20,30,40,50,60,70,80])\n",
    "age_default=data.groupby(['age_bins','default']).AGE.count().unstack()\n",
    "\n",
    "age_default.plot(kind='bar', stacked=True)"
   ]
  },
  {
   "cell_type": "markdown",
   "id": "0020cf84-13f7-4233-8bec-24def9df0bf9",
   "metadata": {},
   "source": [
    "The amount of individuals defaulting is proportional to the total population of individuals in each age group but graph does indicate that individuals from age 20 to 40 are more likely to default."
   ]
  },
  {
   "cell_type": "code",
   "execution_count": 151,
   "id": "ad34f550-4d9d-4149-96bb-3ad7c66c0b32",
   "metadata": {},
   "outputs": [
    {
     "data": {
      "text/plain": [
       "<AxesSubplot:xlabel='default'>"
      ]
     },
     "execution_count": 151,
     "metadata": {},
     "output_type": "execute_result"
    },
    {
     "data": {
      "image/png": "[encoded data removed]",
      "text/plain": [
       "<Figure size 432x288 with 1 Axes>"
      ]
     },
     "metadata": {
      "needs_background": "light"
     },
     "output_type": "display_data"
    }
   ],
   "source": [
    "#Analyze LIMIT_BAL with default\n",
    "data.groupby(\"default\")['LIMIT_BAL'].mean().plot.bar(color=['red','blue'])\n"
   ]
  },
  {
   "cell_type": "markdown",
   "id": "cbb26401-4c14-4666-a324-c96cfb561e8a",
   "metadata": {},
   "source": [
    "On average, Individuals/couples who received less NT dollars are likely to default more. "
   ]
  },
  {
   "cell_type": "code",
   "execution_count": 152,
   "id": "3deed4bc-8720-43b3-9cba-39e644fbfa9b",
   "metadata": {},
   "outputs": [
    {
     "data": {
      "text/plain": [
       "<Figure size 1296x360 with 0 Axes>"
      ]
     },
     "metadata": {},
     "output_type": "display_data"
    },
    {
     "data": {
      "image/png": "[encoded data removed]",
      "text/plain": [
       "<Figure size 1296x648 with 4 Axes>"
      ]
     },
     "metadata": {
      "needs_background": "light"
     },
     "output_type": "display_data"
    }
   ],
   "source": [
    "#Check the distribution of Limit_Bal and Age variables\n",
    "plt.figure(figsize=(18,5))\n",
    "\n",
    "#Check the distribution of Limit_Bal and Age variables\n",
    "plt.figure(figsize=(18,9))\n",
    "plt.subplot(2,2,1)\n",
    "plt.hist((data.AGE))\n",
    "plt.title(\"AGE\")\n",
    "plt.subplot(2,2,2)\n",
    "plt.hist((data.LIMIT_BAL))\n",
    "plt.title(\"Limit_Bal\")\n",
    "\n",
    "#Distributions after taking the log\n",
    "plt.subplot(2,2,3)\n",
    "plt.hist(np.log(data.AGE))\n",
    "plt.title(\"log AGE\")\n",
    "plt.subplot(2,2,4)\n",
    "plt.hist(np.log(data.LIMIT_BAL))\n",
    "plt.title(\"log Limit_Bal\")\n",
    "\n",
    "#Replacing the better normally distributed data \n",
    "data['LIMIT_BAL']=np.log(data.LIMIT_BAL)\n",
    "data['AGE']=np.log(data.AGE)\n",
    "\n",
    "plt.show()"
   ]
  },
  {
   "cell_type": "markdown",
   "id": "173d7a9c-c068-42d3-ba9e-b8cca9ff6758",
   "metadata": {},
   "source": [
    "Created better normally distributed data of AGE and LIMIT_BAL by taking their log."
   ]
  },
  {
   "cell_type": "markdown",
   "id": "33dd0cd1-2035-4c1a-ba44-8503822c8990",
   "metadata": {},
   "source": [
    "### Feature Engineering"
   ]
  },
  {
   "cell_type": "code",
   "execution_count": 153,
   "id": "bae4d6eb-9a41-4124-8b28-fb5028016134",
   "metadata": {},
   "outputs": [
    {
     "data": {
      "text/html": [
       "<div>\n",
       "<style scoped>\n",
       "    .dataframe tbody tr th:only-of-type {\n",
       "        vertical-align: middle;\n",
       "    }\n",
       "\n",
       "    .dataframe tbody tr th {\n",
       "        vertical-align: top;\n",
       "    }\n",
       "\n",
       "    .dataframe thead th {\n",
       "        text-align: right;\n",
       "    }\n",
       "</style>\n",
       "<table border=\"1\" class=\"dataframe\">\n",
       "  <thead>\n",
       "    <tr style=\"text-align: right;\">\n",
       "      <th></th>\n",
       "      <th>LIMIT_BAL</th>\n",
       "      <th>SEX</th>\n",
       "      <th>EDUCATION</th>\n",
       "      <th>MARRIAGE</th>\n",
       "      <th>AGE</th>\n",
       "      <th>PAY_0</th>\n",
       "      <th>PAY_2</th>\n",
       "      <th>PAY_3</th>\n",
       "      <th>PAY_4</th>\n",
       "      <th>PAY_5</th>\n",
       "      <th>...</th>\n",
       "      <th>BILL_AMT5</th>\n",
       "      <th>BILL_AMT6</th>\n",
       "      <th>PAY_AMT1</th>\n",
       "      <th>PAY_AMT2</th>\n",
       "      <th>PAY_AMT3</th>\n",
       "      <th>PAY_AMT4</th>\n",
       "      <th>PAY_AMT5</th>\n",
       "      <th>PAY_AMT6</th>\n",
       "      <th>default</th>\n",
       "      <th>age_bins</th>\n",
       "    </tr>\n",
       "  </thead>\n",
       "  <tbody>\n",
       "    <tr>\n",
       "      <th>0</th>\n",
       "      <td>9.903488</td>\n",
       "      <td>Female</td>\n",
       "      <td>University</td>\n",
       "      <td>Married</td>\n",
       "      <td>3.178054</td>\n",
       "      <td>2</td>\n",
       "      <td>2</td>\n",
       "      <td>0</td>\n",
       "      <td>0</td>\n",
       "      <td>0</td>\n",
       "      <td>...</td>\n",
       "      <td>0.0</td>\n",
       "      <td>0.0</td>\n",
       "      <td>0.0</td>\n",
       "      <td>689.0</td>\n",
       "      <td>0.0</td>\n",
       "      <td>0.0</td>\n",
       "      <td>0.0</td>\n",
       "      <td>0.0</td>\n",
       "      <td>Yes</td>\n",
       "      <td>(20, 30]</td>\n",
       "    </tr>\n",
       "    <tr>\n",
       "      <th>1</th>\n",
       "      <td>11.695247</td>\n",
       "      <td>Female</td>\n",
       "      <td>University</td>\n",
       "      <td>Single</td>\n",
       "      <td>3.258097</td>\n",
       "      <td>0</td>\n",
       "      <td>2</td>\n",
       "      <td>0</td>\n",
       "      <td>0</td>\n",
       "      <td>0</td>\n",
       "      <td>...</td>\n",
       "      <td>3455.0</td>\n",
       "      <td>3261.0</td>\n",
       "      <td>0.0</td>\n",
       "      <td>1000.0</td>\n",
       "      <td>1000.0</td>\n",
       "      <td>1000.0</td>\n",
       "      <td>0.0</td>\n",
       "      <td>2000.0</td>\n",
       "      <td>Yes</td>\n",
       "      <td>(20, 30]</td>\n",
       "    </tr>\n",
       "    <tr>\n",
       "      <th>2</th>\n",
       "      <td>11.407565</td>\n",
       "      <td>Female</td>\n",
       "      <td>University</td>\n",
       "      <td>Single</td>\n",
       "      <td>3.526361</td>\n",
       "      <td>0</td>\n",
       "      <td>0</td>\n",
       "      <td>0</td>\n",
       "      <td>0</td>\n",
       "      <td>0</td>\n",
       "      <td>...</td>\n",
       "      <td>14948.0</td>\n",
       "      <td>15549.0</td>\n",
       "      <td>1518.0</td>\n",
       "      <td>1500.0</td>\n",
       "      <td>1000.0</td>\n",
       "      <td>1000.0</td>\n",
       "      <td>1000.0</td>\n",
       "      <td>5000.0</td>\n",
       "      <td>No</td>\n",
       "      <td>(30, 40]</td>\n",
       "    </tr>\n",
       "    <tr>\n",
       "      <th>3</th>\n",
       "      <td>10.819778</td>\n",
       "      <td>Female</td>\n",
       "      <td>University</td>\n",
       "      <td>Married</td>\n",
       "      <td>3.610918</td>\n",
       "      <td>0</td>\n",
       "      <td>0</td>\n",
       "      <td>0</td>\n",
       "      <td>0</td>\n",
       "      <td>0</td>\n",
       "      <td>...</td>\n",
       "      <td>28959.0</td>\n",
       "      <td>29547.0</td>\n",
       "      <td>2000.0</td>\n",
       "      <td>2019.0</td>\n",
       "      <td>1200.0</td>\n",
       "      <td>1100.0</td>\n",
       "      <td>1069.0</td>\n",
       "      <td>1000.0</td>\n",
       "      <td>No</td>\n",
       "      <td>(30, 40]</td>\n",
       "    </tr>\n",
       "    <tr>\n",
       "      <th>4</th>\n",
       "      <td>10.819778</td>\n",
       "      <td>Male</td>\n",
       "      <td>University</td>\n",
       "      <td>Married</td>\n",
       "      <td>4.043051</td>\n",
       "      <td>0</td>\n",
       "      <td>0</td>\n",
       "      <td>0</td>\n",
       "      <td>0</td>\n",
       "      <td>0</td>\n",
       "      <td>...</td>\n",
       "      <td>19146.0</td>\n",
       "      <td>19131.0</td>\n",
       "      <td>2000.0</td>\n",
       "      <td>36681.0</td>\n",
       "      <td>10000.0</td>\n",
       "      <td>9000.0</td>\n",
       "      <td>689.0</td>\n",
       "      <td>679.0</td>\n",
       "      <td>No</td>\n",
       "      <td>(50, 60]</td>\n",
       "    </tr>\n",
       "    <tr>\n",
       "      <th>5</th>\n",
       "      <td>10.819778</td>\n",
       "      <td>Male</td>\n",
       "      <td>Graduate</td>\n",
       "      <td>Single</td>\n",
       "      <td>3.610918</td>\n",
       "      <td>0</td>\n",
       "      <td>0</td>\n",
       "      <td>0</td>\n",
       "      <td>0</td>\n",
       "      <td>0</td>\n",
       "      <td>...</td>\n",
       "      <td>19619.0</td>\n",
       "      <td>20024.0</td>\n",
       "      <td>2500.0</td>\n",
       "      <td>1815.0</td>\n",
       "      <td>657.0</td>\n",
       "      <td>1000.0</td>\n",
       "      <td>1000.0</td>\n",
       "      <td>800.0</td>\n",
       "      <td>No</td>\n",
       "      <td>(30, 40]</td>\n",
       "    </tr>\n",
       "    <tr>\n",
       "      <th>6</th>\n",
       "      <td>13.122363</td>\n",
       "      <td>Male</td>\n",
       "      <td>Graduate</td>\n",
       "      <td>Single</td>\n",
       "      <td>3.367296</td>\n",
       "      <td>0</td>\n",
       "      <td>0</td>\n",
       "      <td>0</td>\n",
       "      <td>0</td>\n",
       "      <td>0</td>\n",
       "      <td>...</td>\n",
       "      <td>483003.0</td>\n",
       "      <td>473944.0</td>\n",
       "      <td>55000.0</td>\n",
       "      <td>40000.0</td>\n",
       "      <td>38000.0</td>\n",
       "      <td>20239.0</td>\n",
       "      <td>13750.0</td>\n",
       "      <td>13770.0</td>\n",
       "      <td>No</td>\n",
       "      <td>(20, 30]</td>\n",
       "    </tr>\n",
       "    <tr>\n",
       "      <th>7</th>\n",
       "      <td>11.512925</td>\n",
       "      <td>Female</td>\n",
       "      <td>University</td>\n",
       "      <td>Single</td>\n",
       "      <td>3.135494</td>\n",
       "      <td>0</td>\n",
       "      <td>0</td>\n",
       "      <td>0</td>\n",
       "      <td>0</td>\n",
       "      <td>0</td>\n",
       "      <td>...</td>\n",
       "      <td>-159.0</td>\n",
       "      <td>567.0</td>\n",
       "      <td>380.0</td>\n",
       "      <td>601.0</td>\n",
       "      <td>0.0</td>\n",
       "      <td>581.0</td>\n",
       "      <td>1687.0</td>\n",
       "      <td>1542.0</td>\n",
       "      <td>No</td>\n",
       "      <td>(20, 30]</td>\n",
       "    </tr>\n",
       "    <tr>\n",
       "      <th>8</th>\n",
       "      <td>11.849398</td>\n",
       "      <td>Female</td>\n",
       "      <td>Highschool</td>\n",
       "      <td>Married</td>\n",
       "      <td>3.332205</td>\n",
       "      <td>0</td>\n",
       "      <td>0</td>\n",
       "      <td>2</td>\n",
       "      <td>0</td>\n",
       "      <td>0</td>\n",
       "      <td>...</td>\n",
       "      <td>11793.0</td>\n",
       "      <td>3719.0</td>\n",
       "      <td>3329.0</td>\n",
       "      <td>0.0</td>\n",
       "      <td>432.0</td>\n",
       "      <td>1000.0</td>\n",
       "      <td>1000.0</td>\n",
       "      <td>1000.0</td>\n",
       "      <td>No</td>\n",
       "      <td>(20, 30]</td>\n",
       "    </tr>\n",
       "    <tr>\n",
       "      <th>9</th>\n",
       "      <td>9.903488</td>\n",
       "      <td>Male</td>\n",
       "      <td>Highschool</td>\n",
       "      <td>Single</td>\n",
       "      <td>3.555348</td>\n",
       "      <td>0</td>\n",
       "      <td>0</td>\n",
       "      <td>0</td>\n",
       "      <td>0</td>\n",
       "      <td>0</td>\n",
       "      <td>...</td>\n",
       "      <td>13007.0</td>\n",
       "      <td>13912.0</td>\n",
       "      <td>0.0</td>\n",
       "      <td>0.0</td>\n",
       "      <td>0.0</td>\n",
       "      <td>13007.0</td>\n",
       "      <td>1122.0</td>\n",
       "      <td>0.0</td>\n",
       "      <td>No</td>\n",
       "      <td>(30, 40]</td>\n",
       "    </tr>\n",
       "    <tr>\n",
       "      <th>10</th>\n",
       "      <td>12.206073</td>\n",
       "      <td>Female</td>\n",
       "      <td>Highschool</td>\n",
       "      <td>Single</td>\n",
       "      <td>3.526361</td>\n",
       "      <td>0</td>\n",
       "      <td>0</td>\n",
       "      <td>2</td>\n",
       "      <td>0</td>\n",
       "      <td>0</td>\n",
       "      <td>...</td>\n",
       "      <td>1828.0</td>\n",
       "      <td>3731.0</td>\n",
       "      <td>2306.0</td>\n",
       "      <td>12.0</td>\n",
       "      <td>50.0</td>\n",
       "      <td>300.0</td>\n",
       "      <td>3738.0</td>\n",
       "      <td>66.0</td>\n",
       "      <td>No</td>\n",
       "      <td>(30, 40]</td>\n",
       "    </tr>\n",
       "    <tr>\n",
       "      <th>11</th>\n",
       "      <td>12.468437</td>\n",
       "      <td>Female</td>\n",
       "      <td>Graduate</td>\n",
       "      <td>Single</td>\n",
       "      <td>3.931826</td>\n",
       "      <td>0</td>\n",
       "      <td>0</td>\n",
       "      <td>0</td>\n",
       "      <td>0</td>\n",
       "      <td>0</td>\n",
       "      <td>...</td>\n",
       "      <td>22287.0</td>\n",
       "      <td>13668.0</td>\n",
       "      <td>21818.0</td>\n",
       "      <td>9966.0</td>\n",
       "      <td>8583.0</td>\n",
       "      <td>22301.0</td>\n",
       "      <td>0.0</td>\n",
       "      <td>3640.0</td>\n",
       "      <td>No</td>\n",
       "      <td>(50, 60]</td>\n",
       "    </tr>\n",
       "    <tr>\n",
       "      <th>12</th>\n",
       "      <td>13.353475</td>\n",
       "      <td>Female</td>\n",
       "      <td>University</td>\n",
       "      <td>Single</td>\n",
       "      <td>3.713572</td>\n",
       "      <td>0</td>\n",
       "      <td>0</td>\n",
       "      <td>0</td>\n",
       "      <td>0</td>\n",
       "      <td>0</td>\n",
       "      <td>...</td>\n",
       "      <td>6500.0</td>\n",
       "      <td>2870.0</td>\n",
       "      <td>1000.0</td>\n",
       "      <td>6500.0</td>\n",
       "      <td>6500.0</td>\n",
       "      <td>6500.0</td>\n",
       "      <td>2870.0</td>\n",
       "      <td>0.0</td>\n",
       "      <td>No</td>\n",
       "      <td>(40, 50]</td>\n",
       "    </tr>\n",
       "    <tr>\n",
       "      <th>13</th>\n",
       "      <td>11.156251</td>\n",
       "      <td>Male</td>\n",
       "      <td>University</td>\n",
       "      <td>Single</td>\n",
       "      <td>3.401197</td>\n",
       "      <td>1</td>\n",
       "      <td>2</td>\n",
       "      <td>2</td>\n",
       "      <td>0</td>\n",
       "      <td>0</td>\n",
       "      <td>...</td>\n",
       "      <td>36137.0</td>\n",
       "      <td>36894.0</td>\n",
       "      <td>3200.0</td>\n",
       "      <td>0.0</td>\n",
       "      <td>3000.0</td>\n",
       "      <td>3000.0</td>\n",
       "      <td>1500.0</td>\n",
       "      <td>0.0</td>\n",
       "      <td>Yes</td>\n",
       "      <td>(20, 30]</td>\n",
       "    </tr>\n",
       "    <tr>\n",
       "      <th>14</th>\n",
       "      <td>12.429216</td>\n",
       "      <td>Male</td>\n",
       "      <td>Graduate</td>\n",
       "      <td>Single</td>\n",
       "      <td>3.367296</td>\n",
       "      <td>0</td>\n",
       "      <td>0</td>\n",
       "      <td>0</td>\n",
       "      <td>0</td>\n",
       "      <td>0</td>\n",
       "      <td>...</td>\n",
       "      <td>56875.0</td>\n",
       "      <td>55512.0</td>\n",
       "      <td>3000.0</td>\n",
       "      <td>3000.0</td>\n",
       "      <td>3000.0</td>\n",
       "      <td>3000.0</td>\n",
       "      <td>3000.0</td>\n",
       "      <td>3000.0</td>\n",
       "      <td>No</td>\n",
       "      <td>(20, 30]</td>\n",
       "    </tr>\n",
       "    <tr>\n",
       "      <th>15</th>\n",
       "      <td>10.819778</td>\n",
       "      <td>Female</td>\n",
       "      <td>Highschool</td>\n",
       "      <td>Other</td>\n",
       "      <td>3.135494</td>\n",
       "      <td>1</td>\n",
       "      <td>2</td>\n",
       "      <td>0</td>\n",
       "      <td>0</td>\n",
       "      <td>0</td>\n",
       "      <td>...</td>\n",
       "      <td>29531.0</td>\n",
       "      <td>30211.0</td>\n",
       "      <td>0.0</td>\n",
       "      <td>1500.0</td>\n",
       "      <td>1100.0</td>\n",
       "      <td>1200.0</td>\n",
       "      <td>1300.0</td>\n",
       "      <td>1100.0</td>\n",
       "      <td>No</td>\n",
       "      <td>(20, 30]</td>\n",
       "    </tr>\n",
       "    <tr>\n",
       "      <th>16</th>\n",
       "      <td>9.903488</td>\n",
       "      <td>Male</td>\n",
       "      <td>Graduate</td>\n",
       "      <td>Single</td>\n",
       "      <td>3.178054</td>\n",
       "      <td>0</td>\n",
       "      <td>0</td>\n",
       "      <td>2</td>\n",
       "      <td>2</td>\n",
       "      <td>2</td>\n",
       "      <td>...</td>\n",
       "      <td>17905.0</td>\n",
       "      <td>19104.0</td>\n",
       "      <td>3200.0</td>\n",
       "      <td>0.0</td>\n",
       "      <td>1500.0</td>\n",
       "      <td>0.0</td>\n",
       "      <td>1650.0</td>\n",
       "      <td>0.0</td>\n",
       "      <td>Yes</td>\n",
       "      <td>(20, 30]</td>\n",
       "    </tr>\n",
       "    <tr>\n",
       "      <th>17</th>\n",
       "      <td>12.676076</td>\n",
       "      <td>Male</td>\n",
       "      <td>Graduate</td>\n",
       "      <td>Married</td>\n",
       "      <td>3.891820</td>\n",
       "      <td>0</td>\n",
       "      <td>0</td>\n",
       "      <td>0</td>\n",
       "      <td>0</td>\n",
       "      <td>0</td>\n",
       "      <td>...</td>\n",
       "      <td>5856.0</td>\n",
       "      <td>195599.0</td>\n",
       "      <td>10358.0</td>\n",
       "      <td>10000.0</td>\n",
       "      <td>75940.0</td>\n",
       "      <td>20000.0</td>\n",
       "      <td>195599.0</td>\n",
       "      <td>50000.0</td>\n",
       "      <td>No</td>\n",
       "      <td>(40, 50]</td>\n",
       "    </tr>\n",
       "    <tr>\n",
       "      <th>18</th>\n",
       "      <td>12.793859</td>\n",
       "      <td>Female</td>\n",
       "      <td>Graduate</td>\n",
       "      <td>Married</td>\n",
       "      <td>3.891820</td>\n",
       "      <td>1</td>\n",
       "      <td>0</td>\n",
       "      <td>0</td>\n",
       "      <td>0</td>\n",
       "      <td>0</td>\n",
       "      <td>...</td>\n",
       "      <td>0.0</td>\n",
       "      <td>0.0</td>\n",
       "      <td>0.0</td>\n",
       "      <td>0.0</td>\n",
       "      <td>0.0</td>\n",
       "      <td>0.0</td>\n",
       "      <td>0.0</td>\n",
       "      <td>0.0</td>\n",
       "      <td>No</td>\n",
       "      <td>(40, 50]</td>\n",
       "    </tr>\n",
       "    <tr>\n",
       "      <th>19</th>\n",
       "      <td>12.100712</td>\n",
       "      <td>Female</td>\n",
       "      <td>Graduate</td>\n",
       "      <td>Single</td>\n",
       "      <td>3.367296</td>\n",
       "      <td>1</td>\n",
       "      <td>0</td>\n",
       "      <td>0</td>\n",
       "      <td>0</td>\n",
       "      <td>0</td>\n",
       "      <td>...</td>\n",
       "      <td>0.0</td>\n",
       "      <td>0.0</td>\n",
       "      <td>0.0</td>\n",
       "      <td>0.0</td>\n",
       "      <td>0.0</td>\n",
       "      <td>0.0</td>\n",
       "      <td>0.0</td>\n",
       "      <td>0.0</td>\n",
       "      <td>No</td>\n",
       "      <td>(20, 30]</td>\n",
       "    </tr>\n",
       "  </tbody>\n",
       "</table>\n",
       "<p>20 rows × 25 columns</p>\n",
       "</div>"
      ],
      "text/plain": [
       "    LIMIT_BAL     SEX   EDUCATION MARRIAGE       AGE  PAY_0  PAY_2  PAY_3  \\\n",
       "0    9.903488  Female  University  Married  3.178054      2      2      0   \n",
       "1   11.695247  Female  University   Single  3.258097      0      2      0   \n",
       "2   11.407565  Female  University   Single  3.526361      0      0      0   \n",
       "3   10.819778  Female  University  Married  3.610918      0      0      0   \n",
       "4   10.819778    Male  University  Married  4.043051      0      0      0   \n",
       "5   10.819778    Male    Graduate   Single  3.610918      0      0      0   \n",
       "6   13.122363    Male    Graduate   Single  3.367296      0      0      0   \n",
       "7   11.512925  Female  University   Single  3.135494      0      0      0   \n",
       "8   11.849398  Female  Highschool  Married  3.332205      0      0      2   \n",
       "9    9.903488    Male  Highschool   Single  3.555348      0      0      0   \n",
       "10  12.206073  Female  Highschool   Single  3.526361      0      0      2   \n",
       "11  12.468437  Female    Graduate   Single  3.931826      0      0      0   \n",
       "12  13.353475  Female  University   Single  3.713572      0      0      0   \n",
       "13  11.156251    Male  University   Single  3.401197      1      2      2   \n",
       "14  12.429216    Male    Graduate   Single  3.367296      0      0      0   \n",
       "15  10.819778  Female  Highschool    Other  3.135494      1      2      0   \n",
       "16   9.903488    Male    Graduate   Single  3.178054      0      0      2   \n",
       "17  12.676076    Male    Graduate  Married  3.891820      0      0      0   \n",
       "18  12.793859  Female    Graduate  Married  3.891820      1      0      0   \n",
       "19  12.100712  Female    Graduate   Single  3.367296      1      0      0   \n",
       "\n",
       "    PAY_4  PAY_5  ...  BILL_AMT5  BILL_AMT6  PAY_AMT1  PAY_AMT2  PAY_AMT3  \\\n",
       "0       0      0  ...        0.0        0.0       0.0     689.0       0.0   \n",
       "1       0      0  ...     3455.0     3261.0       0.0    1000.0    1000.0   \n",
       "2       0      0  ...    14948.0    15549.0    1518.0    1500.0    1000.0   \n",
       "3       0      0  ...    28959.0    29547.0    2000.0    2019.0    1200.0   \n",
       "4       0      0  ...    19146.0    19131.0    2000.0   36681.0   10000.0   \n",
       "5       0      0  ...    19619.0    20024.0    2500.0    1815.0     657.0   \n",
       "6       0      0  ...   483003.0   473944.0   55000.0   40000.0   38000.0   \n",
       "7       0      0  ...     -159.0      567.0     380.0     601.0       0.0   \n",
       "8       0      0  ...    11793.0     3719.0    3329.0       0.0     432.0   \n",
       "9       0      0  ...    13007.0    13912.0       0.0       0.0       0.0   \n",
       "10      0      0  ...     1828.0     3731.0    2306.0      12.0      50.0   \n",
       "11      0      0  ...    22287.0    13668.0   21818.0    9966.0    8583.0   \n",
       "12      0      0  ...     6500.0     2870.0    1000.0    6500.0    6500.0   \n",
       "13      0      0  ...    36137.0    36894.0    3200.0       0.0    3000.0   \n",
       "14      0      0  ...    56875.0    55512.0    3000.0    3000.0    3000.0   \n",
       "15      0      0  ...    29531.0    30211.0       0.0    1500.0    1100.0   \n",
       "16      2      2  ...    17905.0    19104.0    3200.0       0.0    1500.0   \n",
       "17      0      0  ...     5856.0   195599.0   10358.0   10000.0   75940.0   \n",
       "18      0      0  ...        0.0        0.0       0.0       0.0       0.0   \n",
       "19      0      0  ...        0.0        0.0       0.0       0.0       0.0   \n",
       "\n",
       "    PAY_AMT4  PAY_AMT5  PAY_AMT6  default  age_bins  \n",
       "0        0.0       0.0       0.0      Yes  (20, 30]  \n",
       "1     1000.0       0.0    2000.0      Yes  (20, 30]  \n",
       "2     1000.0    1000.0    5000.0       No  (30, 40]  \n",
       "3     1100.0    1069.0    1000.0       No  (30, 40]  \n",
       "4     9000.0     689.0     679.0       No  (50, 60]  \n",
       "5     1000.0    1000.0     800.0       No  (30, 40]  \n",
       "6    20239.0   13750.0   13770.0       No  (20, 30]  \n",
       "7      581.0    1687.0    1542.0       No  (20, 30]  \n",
       "8     1000.0    1000.0    1000.0       No  (20, 30]  \n",
       "9    13007.0    1122.0       0.0       No  (30, 40]  \n",
       "10     300.0    3738.0      66.0       No  (30, 40]  \n",
       "11   22301.0       0.0    3640.0       No  (50, 60]  \n",
       "12    6500.0    2870.0       0.0       No  (40, 50]  \n",
       "13    3000.0    1500.0       0.0      Yes  (20, 30]  \n",
       "14    3000.0    3000.0    3000.0       No  (20, 30]  \n",
       "15    1200.0    1300.0    1100.0       No  (20, 30]  \n",
       "16       0.0    1650.0       0.0      Yes  (20, 30]  \n",
       "17   20000.0  195599.0   50000.0       No  (40, 50]  \n",
       "18       0.0       0.0       0.0       No  (40, 50]  \n",
       "19       0.0       0.0       0.0       No  (20, 30]  \n",
       "\n",
       "[20 rows x 25 columns]"
      ]
     },
     "execution_count": 153,
     "metadata": {},
     "output_type": "execute_result"
    }
   ],
   "source": [
    "data.head(20)"
   ]
  },
  {
   "cell_type": "code",
   "execution_count": 154,
   "id": "cdc523f9-4cbc-44f5-a8ad-755b4e89320a",
   "metadata": {},
   "outputs": [
    {
     "data": {
      "text/plain": [
       "<AxesSubplot:xlabel='default', ylabel='BILL_AMT6'>"
      ]
     },
     "execution_count": 154,
     "metadata": {},
     "output_type": "execute_result"
    },
    {
     "data": {
      "image/png": "[encoded data removed]",
      "text/plain": [
       "<Figure size 1440x720 with 6 Axes>"
      ]
     },
     "metadata": {
      "needs_background": "light"
     },
     "output_type": "display_data"
    }
   ],
   "source": [
    "#Analyze Bill_AMT\n",
    "plt.figure(figsize=(20,10))\n",
    "plt.subplot(3,4,1)\n",
    "sns.barplot(data.default, data.BILL_AMT1)\n",
    "plt.subplot(3,4,2)\n",
    "sns.barplot(data.default, data.BILL_AMT2)\n",
    "plt.subplot(3,4,3)\n",
    "sns.barplot(data.default, data.BILL_AMT3)\n",
    "plt.subplot(3,4,4)\n",
    "sns.barplot(data.default, data.BILL_AMT4)\n",
    "plt.subplot(3,4,5)\n",
    "sns.barplot(data.default, data.BILL_AMT5)\n",
    "plt.subplot(3,4,6)\n",
    "sns.barplot(data.default, data.BILL_AMT6)\n",
    "\n"
   ]
  },
  {
   "cell_type": "code",
   "execution_count": 155,
   "id": "25074d1c-ecb0-49ea-8332-f4d1ebdf0d7c",
   "metadata": {},
   "outputs": [
    {
     "data": {
      "text/plain": [
       "<AxesSubplot:xlabel='default', ylabel='PAY_AMT6'>"
      ]
     },
     "execution_count": 155,
     "metadata": {},
     "output_type": "execute_result"
    },
    {
     "data": {
      "image/png": "[encoded data removed]",
      "text/plain": [
       "<Figure size 1440x720 with 6 Axes>"
      ]
     },
     "metadata": {
      "needs_background": "light"
     },
     "output_type": "display_data"
    }
   ],
   "source": [
    "#Analyze Pay_AMT columns\n",
    "plt.figure(figsize=(20,10))\n",
    "plt.subplot(2,3,1)\n",
    "sns.barplot(data.default, data.PAY_AMT1)\n",
    "\n",
    "plt.subplot(2,3,2)\n",
    "sns.barplot(data.default, data.PAY_AMT2)\n",
    "plt.subplot(2,3,3)\n",
    "sns.barplot(data.default, data.PAY_AMT3)\n",
    "plt.subplot(2,3,4)\n",
    "sns.barplot(data.default, data.PAY_AMT4)\n",
    "plt.subplot(2,3,5)\n",
    "sns.barplot(data.default, data.PAY_AMT5)\n",
    "plt.subplot(2,3,6)\n",
    "sns.barplot(data.default, data.PAY_AMT6)"
   ]
  },
  {
   "cell_type": "markdown",
   "id": "a8aa189f-5594-49bb-a84d-483e60c882eb",
   "metadata": {},
   "source": [
    "Graph above indicates significant differences in PAY_AMT columns unlike in BILL_AMT columns. It seems that both groups are billed the similar amounts but defaulters pay less in average.  "
   ]
  },
  {
   "cell_type": "code",
   "execution_count": 156,
   "id": "9593e945-ca26-4e09-849f-f1446c6fe611",
   "metadata": {
    "tags": []
   },
   "outputs": [
    {
     "data": {
      "text/plain": [
       "<AxesSubplot:xlabel='PAY_6', ylabel='count'>"
      ]
     },
     "execution_count": 156,
     "metadata": {},
     "output_type": "execute_result"
    },
    {
     "data": {
      "image/png": "[encoded data removed]",
      "text/plain": [
       "<Figure size 1080x720 with 6 Axes>"
      ]
     },
     "metadata": {
      "needs_background": "light"
     },
     "output_type": "display_data"
    }
   ],
   "source": [
    "#Analyze the PAY columns\n",
    "plt.figure(figsize=(15,10))\n",
    "plt.subplot(3,2,1)\n",
    "sns.countplot(x='PAY_0', hue='default', data=data)\n",
    "\n",
    "plt.subplot(3,2,2)\n",
    "sns.countplot(x='PAY_2', hue='default', data=data)\n",
    "\n",
    "plt.subplot(3,2,3)\n",
    "sns.countplot(x='PAY_3', hue='default', data=data)\n",
    "\n",
    "plt.subplot(3,2,4)\n",
    "sns.countplot(x='PAY_4', hue='default', data=data)\n",
    "\n",
    "plt.subplot(3,2,5)\n",
    "sns.countplot(x='PAY_5', hue='default', data=data)\n",
    "\n",
    "plt.subplot(3,2,6)\n",
    "sns.countplot(x='PAY_6', hue='default', data=data)"
   ]
  },
  {
   "cell_type": "markdown",
   "id": "18e989ca-1a3f-446c-956f-a529a523af44",
   "metadata": {},
   "source": [
    "The graph above indicates that if individuals/partners will likely NOT default if payments are made ontime. However, if payments are late for 2-3 months, average numer of defaulters exceed the average number of non-defaulters. "
   ]
  },
  {
   "cell_type": "code",
   "execution_count": 157,
   "id": "8939c1ba-d464-4429-9da4-d7318d3f2e7c",
   "metadata": {},
   "outputs": [],
   "source": [
    "#Turn categorical variables back to numerical variables\n",
    "\n",
    "data.SEX.replace({\"Female\":2 ,\"Male\":1}, inplace=True)\n",
    "data.EDUCATION.replace({\"Graduate\":1,\"University\":2,\"Highschool\":3,\"Other\":4},inplace=True)\n",
    "data.MARRIAGE.replace({\"Married\":1,\"Single\":2,\"Other\":3},inplace=True)\n",
    "data.default.replace({\"Yes\":1,\"No\":0}, inplace=True)"
   ]
  },
  {
   "cell_type": "code",
   "execution_count": 158,
   "id": "7af8f4ed-5499-4193-8524-0dd2a3bdba86",
   "metadata": {},
   "outputs": [
    {
     "data": {
      "text/plain": [
       "default      1.000000\n",
       "PAY_0        0.396019\n",
       "PAY_2        0.327093\n",
       "PAY_3        0.286999\n",
       "PAY_4        0.269055\n",
       "PAY_5        0.260850\n",
       "PAY_6        0.244437\n",
       "EDUCATION    0.035197\n",
       "AGE          0.007393\n",
       "BILL_AMT6    0.005372\n",
       "BILL_AMT5    0.006760\n",
       "BILL_AMT4    0.010156\n",
       "BILL_AMT3    0.014076\n",
       "BILL_AMT2    0.014193\n",
       "BILL_AMT1    0.019644\n",
       "MARRIAGE     0.027575\n",
       "SEX          0.039961\n",
       "PAY_AMT6     0.053183\n",
       "PAY_AMT5     0.055124\n",
       "PAY_AMT3     0.056250\n",
       "PAY_AMT4     0.056827\n",
       "PAY_AMT2     0.058579\n",
       "PAY_AMT1     0.072929\n",
       "LIMIT_BAL    0.173571\n",
       "Name: default, dtype: float64"
      ]
     },
     "execution_count": 158,
     "metadata": {},
     "output_type": "execute_result"
    }
   ],
   "source": [
    "#Looking into correlation between features and the target. Corr() can be used or heatmap. Heatmap provides a better visual.\n",
    "#Look only to correlation between continuous and the target variables.  \n",
    "abs(data.corr().loc[:,'default'].sort_values(ascending=False))"
   ]
  },
  {
   "cell_type": "code",
   "execution_count": 159,
   "id": "6936b5b3-eea5-487b-847a-f6d72c4b1724",
   "metadata": {},
   "outputs": [
    {
     "data": {
      "text/plain": [
       "<AxesSubplot:>"
      ]
     },
     "execution_count": 159,
     "metadata": {},
     "output_type": "execute_result"
    },
    {
     "data": {
      "image/png": "[encoded data removed]",
      "text/plain": [
       "<Figure size 1440x720 with 2 Axes>"
      ]
     },
     "metadata": {
      "needs_background": "light"
     },
     "output_type": "display_data"
    }
   ],
   "source": [
    "plt.figure(figsize=(20,10))\n",
    "sns.heatmap(data.corr(), annot=True)"
   ]
  },
  {
   "cell_type": "markdown",
   "id": "ae7abedd-3287-47c3-be4f-e7ca5b827176",
   "metadata": {},
   "source": [
    "PAY_0 to PAY_6 variables are correlated more than others and will be selected as features."
   ]
  },
  {
   "cell_type": "markdown",
   "id": "8a387431-43fa-4a69-8125-6898471b8ce9",
   "metadata": {},
   "source": [
    "### Train and Test Models"
   ]
  },
  {
   "cell_type": "code",
   "execution_count": 160,
   "id": "3aa9c474-5db4-4832-b2c8-b8366b2f775d",
   "metadata": {},
   "outputs": [
    {
     "data": {
      "text/plain": [
       "Index(['LIMIT_BAL', 'SEX', 'EDUCATION', 'MARRIAGE', 'AGE', 'PAY_0', 'PAY_2',\n",
       "       'PAY_3', 'PAY_4', 'PAY_5', 'PAY_6', 'BILL_AMT1', 'BILL_AMT2',\n",
       "       'BILL_AMT3', 'BILL_AMT4', 'BILL_AMT5', 'BILL_AMT6', 'PAY_AMT1',\n",
       "       'PAY_AMT2', 'PAY_AMT3', 'PAY_AMT4', 'PAY_AMT5', 'PAY_AMT6', 'default',\n",
       "       'age_bins'],\n",
       "      dtype='object')"
      ]
     },
     "execution_count": 160,
     "metadata": {},
     "output_type": "execute_result"
    }
   ],
   "source": [
    "data.columns"
   ]
  },
  {
   "cell_type": "code",
   "execution_count": 161,
   "id": "c85f1e53-2b9b-426a-af55-e290a761da9e",
   "metadata": {},
   "outputs": [],
   "source": [
    "#Based on the visual analysis and correlation, the features I will use include LIMIT_BAl, SEX, EDUCATION, MARRIAGE, AGE, PAY_0 to PAY_6, PAY_AMT1 to PAY_AMT6\n",
    "# I also tested the model with only PAY_0 to PAY_6 features\n",
    "#My target variable is default\n",
    "X=data[['LIMIT_BAL','SEX','EDUCATION','MARRIAGE','AGE','PAY_0','PAY_2','PAY_3','PAY_4','PAY_5','PAY_6','PAY_AMT1','PAY_AMT2','PAY_AMT3','PAY_AMT4','PAY_AMT5','PAY_AMT6']]\n",
    "Y=data.default\n"
   ]
  },
  {
   "cell_type": "code",
   "execution_count": 162,
   "id": "a7abf60f-32cd-4233-8dd0-b08e5931de7d",
   "metadata": {},
   "outputs": [],
   "source": [
    "#Split the data to 80, 20.\n",
    "\n",
    "X_train,X_test, y_train, y_test= train_test_split(X,Y,test_size=0.2, random_state=64)"
   ]
  },
  {
   "cell_type": "code",
   "execution_count": 163,
   "id": "c8fbf955-6f34-45d9-b8c1-62bf20859544",
   "metadata": {},
   "outputs": [
    {
     "name": "stdout",
     "output_type": "stream",
     "text": [
      "Train score: 0.81\n",
      "Test score: 0.80\n",
      "\n"
     ]
    }
   ],
   "source": [
    "#Using Logistic Regression\n",
    "\n",
    "lr_model=LogisticRegression(solver='lbfgs')\n",
    "lr_model.fit(X_train, y_train)\n",
    "\n",
    "print(\"Train score: {:.2f}\".format(lr_model.score(X_train,y_train)))\n",
    "print(\"Test score: {:.2f}\\n\".format(lr_model.score(X_test, y_test)))\n",
    "\n",
    "#predicting outputs using X_test\n",
    "lr_pred=lr_model.predict(X_test)\n"
   ]
  },
  {
   "cell_type": "markdown",
   "id": "9786c5d8-d178-4abd-af5e-9d24ed6b7571",
   "metadata": {},
   "source": [
    "The scores are not that different, overfitting is not indicated and regularization is not needed. "
   ]
  },
  {
   "cell_type": "code",
   "execution_count": 164,
   "id": "702b4c27-4c55-4116-a06a-21f4f885339a",
   "metadata": {},
   "outputs": [
    {
     "name": "stdout",
     "output_type": "stream",
     "text": [
      "[[4473  177]\n",
      " [1000  350]]\n",
      "              precision    recall  f1-score   support\n",
      "\n",
      "           0       0.82      0.96      0.88      4650\n",
      "           1       0.66      0.26      0.37      1350\n",
      "\n",
      "    accuracy                           0.80      6000\n",
      "   macro avg       0.74      0.61      0.63      6000\n",
      "weighted avg       0.78      0.80      0.77      6000\n",
      "\n"
     ]
    }
   ],
   "source": [
    "lr1=accuracy_score(y_test, lr_pred)\n",
    "\n",
    "confusion_report=confusion_matrix(y_test, lr_pred)\n",
    "print(confusion_report)\n",
    "accuracy_report=classification_report(y_test,lr_pred)\n",
    "print(accuracy_report)"
   ]
  },
  {
   "cell_type": "code",
   "execution_count": 165,
   "id": "82bc3af8-c0fc-43c2-8208-aaee37705f71",
   "metadata": {},
   "outputs": [
    {
     "name": "stdout",
     "output_type": "stream",
     "text": [
      "Logistic Regression average of 5 scores:  0.804875\n"
     ]
    }
   ],
   "source": [
    "#Lets use cross_val_score\n",
    "clf=LogisticRegression(solver='lbfgs')\n",
    "lr_cross_val=cross_val_score(clf, X_train, y_train, cv=5)\n",
    "print(\"Logistic Regression average of 5 scores: \",lr_cross_val.mean())"
   ]
  },
  {
   "cell_type": "code",
   "execution_count": 166,
   "id": "bbea625e-2234-47ab-8d10-f56e59acb489",
   "metadata": {},
   "outputs": [
    {
     "name": "stdout",
     "output_type": "stream",
     "text": [
      "Random forest train score: 0.82\n",
      "Random forest test score: 0.81\n",
      "\n",
      "Random Forest average of 5 scores:  0.8159166666666667\n"
     ]
    }
   ],
   "source": [
    "#Using Random Forest\n",
    "\n",
    "rfc_model=ensemble.RandomForestClassifier(max_depth=4)\n",
    "rfc_model.fit(X_train, y_train)\n",
    "\n",
    "rfc_pred=rfc_model.predict(X_test)\n",
    "\n",
    "print(\"Random forest train score: {:.2f}\".format(rfc_model.score(X_train,y_train)))\n",
    "print(\"Random forest test score: {:.2f}\\n\".format(rfc_model.score(X_test, y_test)))\n",
    "\n",
    "#Using cross_val_score\n",
    "rfc=ensemble.RandomForestClassifier(max_depth=4)\n",
    "rfc_cross=cross_val_score(rfc, X_train, y_train, cv=5)\n",
    "print(\"Random Forest average of 5 scores: \",rfc_cross.mean())"
   ]
  },
  {
   "cell_type": "code",
   "execution_count": 167,
   "id": "d2620ebe-f377-4d7c-b060-a19a712cf9e4",
   "metadata": {},
   "outputs": [
    {
     "name": "stdout",
     "output_type": "stream",
     "text": [
      "[[4477  173]\n",
      " [ 937  413]]\n",
      "              precision    recall  f1-score   support\n",
      "\n",
      "           0       0.83      0.96      0.89      4650\n",
      "           1       0.70      0.31      0.43      1350\n",
      "\n",
      "    accuracy                           0.81      6000\n",
      "   macro avg       0.77      0.63      0.66      6000\n",
      "weighted avg       0.80      0.81      0.79      6000\n",
      "\n"
     ]
    }
   ],
   "source": [
    "rfc1=accuracy_score(y_test, rfc_pred)\n",
    "rfc_confusion_report=confusion_matrix(y_test, rfc_pred)\n",
    "print(rfc_confusion_report)\n",
    "rfc_accuracy_report=classification_report(y_test,rfc_pred)\n",
    "print(rfc_accuracy_report)"
   ]
  },
  {
   "cell_type": "code",
   "execution_count": 168,
   "id": "bf401f01-4d3b-4ac6-af99-673e2a8117e8",
   "metadata": {},
   "outputs": [],
   "source": [
    "#Using KNN Model\n",
    "\n",
    "knn_model=KNeighborsClassifier(n_neighbors=7, weights='distance', algorithm='brute')\n",
    "knn_model.fit(X_train, y_train)\n",
    "\n",
    "knn_pred=knn_model.predict(X_test)"
   ]
  },
  {
   "cell_type": "code",
   "execution_count": 169,
   "id": "9123dd6e-dac0-4bb0-870c-0e3a9c249296",
   "metadata": {},
   "outputs": [
    {
     "name": "stdout",
     "output_type": "stream",
     "text": [
      "KNN model train score: 1.00\n",
      "KNN model test score: 1.00\n",
      "\n",
      "KNN average of 5 scores:  0.7623333333333333\n"
     ]
    }
   ],
   "source": [
    "print(\"KNN model train score: {:.2f}\".format(knn_model.score(X_train,y_train)))\n",
    "print(\"KNN model test score: {:.2f}\\n\".format(knn_model.score(X_test, knn_pred)))\n",
    "\n",
    "#Using cross val\n",
    "knn=KNeighborsClassifier(n_neighbors=7, weights='distance', algorithm='brute')\n",
    "knn_cross=cross_val_score(knn, X_train, y_train, cv=5)\n",
    "print(\"KNN average of 5 scores: \",knn_cross.mean())"
   ]
  },
  {
   "cell_type": "markdown",
   "id": "4809b785-b99d-4c73-a5b1-e69638299e55",
   "metadata": {},
   "source": [
    "Underfitting is indicated."
   ]
  },
  {
   "cell_type": "code",
   "execution_count": 170,
   "id": "564cfdd0-ccca-4efb-a46a-fcec037994d7",
   "metadata": {},
   "outputs": [
    {
     "name": "stdout",
     "output_type": "stream",
     "text": [
      "[[4304  346]\n",
      " [1078  272]]\n",
      "              precision    recall  f1-score   support\n",
      "\n",
      "           0       0.80      0.93      0.86      4650\n",
      "           1       0.44      0.20      0.28      1350\n",
      "\n",
      "    accuracy                           0.76      6000\n",
      "   macro avg       0.62      0.56      0.57      6000\n",
      "weighted avg       0.72      0.76      0.73      6000\n",
      "\n"
     ]
    }
   ],
   "source": [
    "knn1=accuracy_score(y_test, knn_pred)\n",
    "\n",
    "knn_confusion_report=confusion_matrix(y_test, knn_pred)\n",
    "print(knn_confusion_report)\n",
    "knn_accuracy_report=classification_report(y_test, knn_pred)\n",
    "print(knn_accuracy_report)"
   ]
  },
  {
   "cell_type": "markdown",
   "id": "a2a53212-49e9-4182-a037-0010c7180372",
   "metadata": {},
   "source": [
    "**Training Same Models with only PAY_0 to PAY_6 features."
   ]
  },
  {
   "cell_type": "code",
   "execution_count": 171,
   "id": "6717406b-a770-4e40-a666-897315833b9d",
   "metadata": {},
   "outputs": [],
   "source": [
    "X=data[['PAY_0','PAY_2','PAY_3','PAY_4','PAY_5','PAY_6']]\n",
    "Y=data.default"
   ]
  },
  {
   "cell_type": "code",
   "execution_count": 172,
   "id": "e75c81f6-071c-449f-9737-7c1476ab04d3",
   "metadata": {},
   "outputs": [],
   "source": [
    "#Split the data to 80, 20.\n",
    "\n",
    "X_train,X_test, y_train, y_test= train_test_split(X,Y,test_size=0.2, random_state=64)"
   ]
  },
  {
   "cell_type": "code",
   "execution_count": 173,
   "id": "3db0a93c-2142-4f60-ac73-4d206b0822cc",
   "metadata": {},
   "outputs": [
    {
     "name": "stdout",
     "output_type": "stream",
     "text": [
      "Train score: 0.81\n",
      "Test score: 0.82\n",
      "\n"
     ]
    }
   ],
   "source": [
    "#Using Logistic Regression\n",
    "\n",
    "lr_model=LogisticRegression(solver='lbfgs', random_state=64)\n",
    "lr_model.fit(X_train, y_train)\n",
    "\n",
    "print(\"Train score: {:.2f}\".format(lr_model.score(X_train,y_train)))\n",
    "print(\"Test score: {:.2f}\\n\".format(lr_model.score(X_test, y_test)))\n",
    "\n",
    "#predicting outputs using X_test\n",
    "lr_pred=lr_model.predict(X_test)"
   ]
  },
  {
   "cell_type": "code",
   "execution_count": 174,
   "id": "0974ad6f-f656-430c-a910-51a0afe2c08f",
   "metadata": {},
   "outputs": [
    {
     "name": "stdout",
     "output_type": "stream",
     "text": [
      "[[4483  167]\n",
      " [ 936  414]]\n",
      "              precision    recall  f1-score   support\n",
      "\n",
      "           0       0.83      0.96      0.89      4650\n",
      "           1       0.71      0.31      0.43      1350\n",
      "\n",
      "    accuracy                           0.82      6000\n",
      "   macro avg       0.77      0.64      0.66      6000\n",
      "weighted avg       0.80      0.82      0.79      6000\n",
      "\n"
     ]
    }
   ],
   "source": [
    "lr2=accuracy_score(y_test, lr_pred)\n",
    "confusion_report=confusion_matrix(y_test, lr_pred)\n",
    "print(confusion_report)\n",
    "accuracy_report=classification_report(y_test,lr_pred)\n",
    "print(accuracy_report)"
   ]
  },
  {
   "cell_type": "code",
   "execution_count": 175,
   "id": "5bfcd1c4-be6b-4dc2-9c74-9eec17adc714",
   "metadata": {},
   "outputs": [
    {
     "name": "stdout",
     "output_type": "stream",
     "text": [
      "Random forest train score: 0.82\n",
      "Random forest test score: 0.82\n",
      "\n",
      "Random Forest averaage of 5 scores:  0.8207916666666668\n"
     ]
    }
   ],
   "source": [
    "#Using Random Forest\n",
    "\n",
    "rfc_model=ensemble.RandomForestClassifier(max_depth=4)\n",
    "rfc_model.fit(X_train, y_train)\n",
    "\n",
    "rfc_pred=rfc_model.predict(X_test)\n",
    "\n",
    "print(\"Random forest train score: {:.2f}\".format(rfc_model.score(X_train,y_train)))\n",
    "print(\"Random forest test score: {:.2f}\\n\".format(rfc_model.score(X_test, y_test)))\n",
    "\n",
    "#Using cross_val_score\n",
    "rfc=ensemble.RandomForestClassifier(max_depth=4)\n",
    "rfc_cross=cross_val_score(rfc, X_train, y_train, cv=5)\n",
    "print(\"Random Forest averaage of 5 scores: \",rfc_cross.mean())"
   ]
  },
  {
   "cell_type": "code",
   "execution_count": 176,
   "id": "6c38b1f1-2c4c-451a-a450-fe5671bc331d",
   "metadata": {},
   "outputs": [
    {
     "name": "stdout",
     "output_type": "stream",
     "text": [
      "[[4426  224]\n",
      " [ 844  506]]\n",
      "              precision    recall  f1-score   support\n",
      "\n",
      "           0       0.84      0.95      0.89      4650\n",
      "           1       0.69      0.37      0.49      1350\n",
      "\n",
      "    accuracy                           0.82      6000\n",
      "   macro avg       0.77      0.66      0.69      6000\n",
      "weighted avg       0.81      0.82      0.80      6000\n",
      "\n"
     ]
    }
   ],
   "source": [
    "rfc2=accuracy_score(y_test, rfc_pred)\n",
    "rfc_confusion_report=confusion_matrix(y_test, rfc_pred)\n",
    "print(rfc_confusion_report)\n",
    "rfc_accuracy_report=classification_report(y_test,rfc_pred)\n",
    "print(rfc_accuracy_report)"
   ]
  },
  {
   "cell_type": "code",
   "execution_count": 177,
   "id": "28161211-e9a7-420c-9ed6-fd43e05f2edb",
   "metadata": {},
   "outputs": [
    {
     "name": "stdout",
     "output_type": "stream",
     "text": [
      "KNN model train score: 0.31\n",
      "KNN model test score: 1.00\n",
      "\n",
      "KNN average of 5 scores:  0.8102500000000001\n"
     ]
    }
   ],
   "source": [
    "#Using KNN Model\n",
    "\n",
    "knn_model=KNeighborsClassifier(n_neighbors=7, weights='distance', algorithm='brute')\n",
    "knn_model.fit(X_train, y_train)\n",
    "\n",
    "knn_pred=knn_model.predict(X_test)\n",
    "\n",
    "print(\"KNN model train score: {:.2f}\".format(knn_model.score(X_train,y_train)))\n",
    "print(\"KNN model test score: {:.2f}\\n\".format(knn_model.score(X_test, knn_pred)))\n",
    "\n",
    "#Using cross val\n",
    "knn=KNeighborsClassifier(n_neighbors=7, weights='distance', algorithm='brute')\n",
    "knn_cross=cross_val_score(knn, X_train, y_train, cv=5)\n",
    "print(\"KNN average of 5 scores: \",knn_cross.mean())"
   ]
  },
  {
   "cell_type": "code",
   "execution_count": 178,
   "id": "6453b89a-1a7d-4847-8933-2571ad8e9f1d",
   "metadata": {},
   "outputs": [
    {
     "name": "stdout",
     "output_type": "stream",
     "text": [
      "[[ 918 3732]\n",
      " [ 477  873]]\n",
      "              precision    recall  f1-score   support\n",
      "\n",
      "           0       0.66      0.20      0.30      4650\n",
      "           1       0.19      0.65      0.29      1350\n",
      "\n",
      "    accuracy                           0.30      6000\n",
      "   macro avg       0.42      0.42      0.30      6000\n",
      "weighted avg       0.55      0.30      0.30      6000\n",
      "\n"
     ]
    }
   ],
   "source": [
    "knn2=accuracy_score(y_test, knn_pred)\n",
    "knn_confusion_report=confusion_matrix(y_test, knn_pred)\n",
    "print(knn_confusion_report)\n",
    "knn_accuracy_report=classification_report(y_test, knn_pred)\n",
    "print(knn_accuracy_report)"
   ]
  },
  {
   "cell_type": "code",
   "execution_count": 228,
   "id": "540bb728-d9ea-4748-a94c-245c481cdb95",
   "metadata": {},
   "outputs": [
    {
     "data": {
      "image/png": "[encoded data removed]",
      "text/plain": [
       "<Figure size 1296x360 with 2 Axes>"
      ]
     },
     "metadata": {
      "needs_background": "light"
     },
     "output_type": "display_data"
    }
   ],
   "source": [
    "#Graphing accuracy scores\n",
    "models=['Logistic Regresson','Random Forest','KNN']\n",
    "accuracy1=[lr1, rfc1, knn1]\n",
    "accuracy2=[lr2, rfc2, knn2]\n",
    "plt.figure(figsize=(18,5))\n",
    "plt.subplot(1,2,1)\n",
    "plt.barh(models,accuracy1, color=['blue','red','orange'])\n",
    "plt.title(\"Test 1: Accuracy Using All Features\")\n",
    "for i, val in enumerate(accuracy1):\n",
    "    plt.text(val, i,\n",
    "             str(\"%.3f\"%val))\n",
    "plt.subplot(1,2,2)\n",
    "plt.barh(models,accuracy2,color=['blue','red','orange'])\n",
    "plt.title(\"Test 2: Accuracy Using PAY Features\")\n",
    "\n",
    "for i, val in enumerate(accuracy2):\n",
    "    plt.text(val, i,\n",
    "             str(\"%.3f\"%val))\n",
    "\n",
    "plt.tight_layout()"
   ]
  },
  {
   "cell_type": "markdown",
   "id": "14581be6-8a01-4370-bb33-c84b7cbb23c1",
   "metadata": {},
   "source": [
    "Results:\n",
    "    \n",
    "Based on the visualization techniques of indiviudal feature and their relationship to the target variable, most useful features that leads to defaulting of individual/partners include: 'LIMIT_BAL','SEX','EDUCATION','MARRIAGE','AGE','PAY_0','PAY_2','PAY_3','PAY_4','PAY_5','PAY_6','PAY_AMT1','PAY_AMT2','PAY_AMT3','PAY_AMT4','PAY_AMT5', and 'PAY_AMT6'.\n",
    "\n",
    "I used the above features to train my LogisticRegression, Random Forest, and KNN Classifier models. Comparing the accuracy  and the data gathered from confusion matrix, Random Forest model is better to predict the outcome value.\n",
    "\n",
    "In order to improve the model, I chose the most correlated variables by analyzing correlation results. My second group of features to train the models only include: 'PAY_AMT1','PAY_AMT2','PAY_AMT3','PAY_AMT4','PAY_AMT5', and 'PAY_AMT6'. In this test, KNN model proved to be less effective. Random Forest model is a little better than Logistic Regression model on test 2 and its permormance improved by 1 point by only using the PAY_0 to PAY_6 features. \n",
    "\n",
    "The use of this model will highly benefit banks by allowing them to predict if a certain individual will default on their loan or not based on the features used above. This will lead banks to choose appropriate individuals to receive the loan and save money by reducing the number of loans given to individuals that are likely to default. \n",
    "\n",
    "This model will correctly predict 80% of the population. Even though this is good, it does not predict 100% and banks will sometimes will loan an individual who will likely to default. I believe including more features that would be more correlated with the target variable needs to be included in the data. Features can be credit score, individuals salary, and their total dept. "
   ]
  },
  {
   "cell_type": "code",
   "execution_count": null,
   "id": "77b91851-aa9b-424c-94e3-f25713a19111",
   "metadata": {},
   "outputs": [],
   "source": []
  }
 ],
 "metadata": {
  "kernelspec": {
   "display_name": "Python 3",
   "language": "python",
   "name": "python3"
  },
  "language_info": {
   "codemirror_mode": {
    "name": "ipython",
    "version": 3
   },
   "file_extension": ".py",
   "mimetype": "text/x-python",
   "name": "python",
   "nbconvert_exporter": "python",
   "pygments_lexer": "ipython3",
   "version": "3.8.8"
  }
 },
 "nbformat": 4,
 "nbformat_minor": 5
}
